{
 "cells": [
  {
   "cell_type": "markdown",
   "id": "06f3caf3",
   "metadata": {},
   "source": [
    "# Code Cell"
   ]
  },
  {
   "cell_type": "markdown",
   "id": "56745843",
   "metadata": {},
   "source": [
    "**Summary:** Imports libraries."
   ]
  },
  {
   "cell_type": "code",
   "execution_count": null,
   "id": "bad23cf6",
   "metadata": {},
   "outputs": [
    {
     "name": "stderr",
     "output_type": "stream",
     "text": [
      "/Users/basartemur/miniforge3/envs/scm-env/lib/python3.9/site-packages/statsforecast/utils.py:231: FutureWarning:\n",
      "\n",
      "'M' is deprecated and will be removed in a future version, please use 'ME' instead.\n",
      "\n"
     ]
    }
   ],
   "source": [
    "# 📦 Core and system\n",
    "import os\n",
    "import numpy as np\n",
    "import pandas as pd\n",
    "\n",
    "\n",
    "# 📊 Visualization\n",
    "import matplotlib.pyplot as plt\n",
    "import seaborn as sns\n",
    "from mpl_toolkits.mplot3d import Axes3D\n",
    "import plotly.graph_objs as go\n",
    "import plotly.offline as pyoff\n",
    "\n",
    "\n",
    "# 🤖 Classical Machine Learning\n",
    "from sklearn.model_selection import train_test_split\n",
    "from sklearn.linear_model import LinearRegression, Ridge, Lasso, ElasticNet\n",
    "from sklearn.neighbors import KNeighborsRegressor\n",
    "from sklearn.tree import DecisionTreeRegressor\n",
    "from sklearn.svm import SVR\n",
    "from sklearn import metrics\n",
    "from sklearn.metrics import mean_squared_error\n",
    "\n",
    "# 🔮 Time Series: Prophet\n",
    "from prophet import Prophet\n",
    "\n",
    "\n",
    "# 🔁 Time Series: Darts\n",
    "import torch\n",
    "from darts import TimeSeries\n",
    "from darts.models import TCNModel, NBEATSModel\n",
    "from darts.dataprocessing.transformers import Scaler\n",
    "from darts.metrics import rmse\n"
   ]
  },
  {
   "cell_type": "markdown",
   "id": "f0e697be",
   "metadata": {},
   "source": [
    "**Summary:** Calls function: `print()`."
   ]
  },
  {
   "cell_type": "code",
   "execution_count": null,
   "id": "e4c2f8cc",
   "metadata": {},
   "outputs": [
    {
     "name": "stdout",
     "output_type": "stream",
     "text": [
      "/Users/basartemur/Library/CloudStorage/Dropbox/02 MMDS/00 Course Work/25 FSS Ind App o AI/Projects/SCM/Notebooks\n"
     ]
    }
   ],
   "source": [
    "print(os.getcwd())"
   ]
  },
  {
   "cell_type": "markdown",
   "id": "7d727a23",
   "metadata": {},
   "source": [
    "**Summary:** Executes general Python code."
   ]
  },
  {
   "cell_type": "code",
   "execution_count": null,
   "id": "48c79da8",
   "metadata": {},
   "outputs": [
    {
     "name": "stdout",
     "output_type": "stream",
     "text": [
      "../Data/.DS_Store\n",
      "../Data/meal_info.csv\n",
      "../Data/test.csv\n",
      "../Data/fulfilment_center_info.csv\n",
      "../Data/train.csv\n",
      "../Data/train_proc.csv\n"
     ]
    }
   ],
   "source": [
    "for dirname, _, filenames in os.walk('../Data'):\n",
    "    for filename in filenames:\n",
    "        print(os.path.join(dirname, filename))\n",
    "\n"
   ]
  },
  {
   "cell_type": "markdown",
   "id": "f74f9725",
   "metadata": {},
   "source": [
    "We are trying to forecast the demand after 145\n",
    "\n",
    "## EDA"
   ]
  },
  {
   "cell_type": "markdown",
   "id": "95947f02",
   "metadata": {},
   "source": [
    "**Summary:** Assigns values to variables. Calls function: `print()`."
   ]
  },
  {
   "cell_type": "code",
   "execution_count": null,
   "id": "c4ea7043",
   "metadata": {},
   "outputs": [
    {
     "name": "stdout",
     "output_type": "stream",
     "text": [
      "   center_id  city_code  region_code center_type  op_area\n",
      "0         11        679           56      TYPE_A      3.7\n",
      "1         13        590           56      TYPE_B      6.7\n",
      "2        124        590           56      TYPE_C      4.0\n",
      "3         66        648           34      TYPE_A      4.1\n",
      "4         94        632           34      TYPE_C      3.6\n"
     ]
    }
   ],
   "source": [
    "df_CentInf = pd.read_csv('../Data/fulfilment_center_info.csv')\n",
    "print(df_CentInf.head())\n"
   ]
  },
  {
   "cell_type": "markdown",
   "id": "324d7635",
   "metadata": {},
   "source": [
    "**Summary:** Assigns values to variables. Calls function: `print()`."
   ]
  },
  {
   "cell_type": "code",
   "execution_count": null,
   "id": "a2e065ec",
   "metadata": {},
   "outputs": [
    {
     "name": "stdout",
     "output_type": "stream",
     "text": [
      "   meal_id   category cuisine\n",
      "0     1885  Beverages    Thai\n",
      "1     1993  Beverages    Thai\n",
      "2     2539  Beverages    Thai\n",
      "3     1248  Beverages  Indian\n",
      "4     2631  Beverages  Indian\n"
     ]
    }
   ],
   "source": [
    "df_MealInf = pd.read_csv('../Data/meal_info.csv')\n",
    "print(df_MealInf.head())"
   ]
  },
  {
   "cell_type": "markdown",
   "id": "96afedcb",
   "metadata": {},
   "source": [
    "**Summary:** Assigns values to variables. Calls function: `print()`."
   ]
  },
  {
   "cell_type": "code",
   "execution_count": null,
   "id": "37c8553f",
   "metadata": {},
   "outputs": [
    {
     "name": "stdout",
     "output_type": "stream",
     "text": [
      "        id  week  center_id  meal_id  checkout_price  base_price  \\\n",
      "0  1379560     1         55     1885          136.83      152.29   \n",
      "1  1466964     1         55     1993          136.83      135.83   \n",
      "2  1346989     1         55     2539          134.86      135.86   \n",
      "3  1338232     1         55     2139          339.50      437.53   \n",
      "4  1448490     1         55     2631          243.50      242.50   \n",
      "\n",
      "   emailer_for_promotion  homepage_featured  num_orders  \n",
      "0                      0                  0         177  \n",
      "1                      0                  0         270  \n",
      "2                      0                  0         189  \n",
      "3                      0                  0          54  \n",
      "4                      0                  0          40  \n"
     ]
    }
   ],
   "source": [
    "df_train = pd.read_csv('../Data/train.csv')\n",
    "print(df_train.head())"
   ]
  },
  {
   "cell_type": "markdown",
   "id": "d96c8fb7",
   "metadata": {},
   "source": [
    "**Summary:** Assigns values to variables. Calls function: `print()`."
   ]
  },
  {
   "cell_type": "code",
   "execution_count": null,
   "id": "788c3189",
   "metadata": {},
   "outputs": [
    {
     "name": "stdout",
     "output_type": "stream",
     "text": [
      "        id  week  center_id  meal_id  checkout_price  base_price  \\\n",
      "0  1379560     1         55     1885          136.83      152.29   \n",
      "1  1466964     1         55     1993          136.83      135.83   \n",
      "2  1346989     1         55     2539          134.86      135.86   \n",
      "3  1338232     1         55     2139          339.50      437.53   \n",
      "4  1448490     1         55     2631          243.50      242.50   \n",
      "\n",
      "   emailer_for_promotion  homepage_featured  num_orders  city_code  \\\n",
      "0                      0                  0         177        647   \n",
      "1                      0                  0         270        647   \n",
      "2                      0                  0         189        647   \n",
      "3                      0                  0          54        647   \n",
      "4                      0                  0          40        647   \n",
      "\n",
      "   region_code center_type  op_area  \n",
      "0           56      TYPE_C      2.0  \n",
      "1           56      TYPE_C      2.0  \n",
      "2           56      TYPE_C      2.0  \n",
      "3           56      TYPE_C      2.0  \n",
      "4           56      TYPE_C      2.0  \n"
     ]
    }
   ],
   "source": [
    "df_TrMerg1 = pd.merge(df_train, df_CentInf, how='inner', on='center_id')\n",
    "print(df_TrMerg1.head())"
   ]
  },
  {
   "cell_type": "markdown",
   "id": "f52bef45",
   "metadata": {},
   "source": [
    "**Summary:** Assigns values to variables. Calls function: `print()`."
   ]
  },
  {
   "cell_type": "code",
   "execution_count": null,
   "id": "13a53bb6",
   "metadata": {},
   "outputs": [
    {
     "name": "stdout",
     "output_type": "stream",
     "text": [
      "        id  week  center_id  meal_id  checkout_price  base_price  \\\n",
      "0  1379560     1         55     1885          136.83      152.29   \n",
      "1  1466964     1         55     1993          136.83      135.83   \n",
      "2  1346989     1         55     2539          134.86      135.86   \n",
      "3  1338232     1         55     2139          339.50      437.53   \n",
      "4  1448490     1         55     2631          243.50      242.50   \n",
      "\n",
      "   emailer_for_promotion  homepage_featured  num_orders  city_code  \\\n",
      "0                      0                  0         177        647   \n",
      "1                      0                  0         270        647   \n",
      "2                      0                  0         189        647   \n",
      "3                      0                  0          54        647   \n",
      "4                      0                  0          40        647   \n",
      "\n",
      "   region_code center_type  op_area   category cuisine  \n",
      "0           56      TYPE_C      2.0  Beverages    Thai  \n",
      "1           56      TYPE_C      2.0  Beverages    Thai  \n",
      "2           56      TYPE_C      2.0  Beverages    Thai  \n",
      "3           56      TYPE_C      2.0  Beverages  Indian  \n",
      "4           56      TYPE_C      2.0  Beverages  Indian  \n"
     ]
    }
   ],
   "source": [
    "df = pd.merge(df_TrMerg1, df_MealInf, how='inner', on='meal_id')\n",
    "print(df.head())"
   ]
  },
  {
   "cell_type": "markdown",
   "id": "86d06098",
   "metadata": {},
   "source": [
    "**Summary:** Executes general Python code."
   ]
  },
  {
   "cell_type": "code",
   "execution_count": null,
   "id": "e78396fa",
   "metadata": {},
   "outputs": [
    {
     "data": {
      "text/html": [
       "<div>\n",
       "<style scoped>\n",
       "    .dataframe tbody tr th:only-of-type {\n",
       "        vertical-align: middle;\n",
       "    }\n",
       "\n",
       "    .dataframe tbody tr th {\n",
       "        vertical-align: top;\n",
       "    }\n",
       "\n",
       "    .dataframe thead th {\n",
       "        text-align: right;\n",
       "    }\n",
       "</style>\n",
       "<table border=\"1\" class=\"dataframe\">\n",
       "  <thead>\n",
       "    <tr style=\"text-align: right;\">\n",
       "      <th></th>\n",
       "      <th>id</th>\n",
       "      <th>week</th>\n",
       "      <th>center_id</th>\n",
       "      <th>meal_id</th>\n",
       "      <th>checkout_price</th>\n",
       "      <th>base_price</th>\n",
       "      <th>emailer_for_promotion</th>\n",
       "      <th>homepage_featured</th>\n",
       "      <th>num_orders</th>\n",
       "      <th>city_code</th>\n",
       "      <th>region_code</th>\n",
       "      <th>op_area</th>\n",
       "    </tr>\n",
       "  </thead>\n",
       "  <tbody>\n",
       "    <tr>\n",
       "      <th>count</th>\n",
       "      <td>4.565480e+05</td>\n",
       "      <td>456548.000000</td>\n",
       "      <td>456548.000000</td>\n",
       "      <td>456548.000000</td>\n",
       "      <td>456548.000000</td>\n",
       "      <td>456548.000000</td>\n",
       "      <td>456548.000000</td>\n",
       "      <td>456548.00000</td>\n",
       "      <td>456548.000000</td>\n",
       "      <td>456548.000000</td>\n",
       "      <td>456548.000000</td>\n",
       "      <td>456548.000000</td>\n",
       "    </tr>\n",
       "    <tr>\n",
       "      <th>mean</th>\n",
       "      <td>1.250096e+06</td>\n",
       "      <td>74.768771</td>\n",
       "      <td>82.105796</td>\n",
       "      <td>2024.337458</td>\n",
       "      <td>332.238933</td>\n",
       "      <td>354.156627</td>\n",
       "      <td>0.081152</td>\n",
       "      <td>0.10920</td>\n",
       "      <td>261.872760</td>\n",
       "      <td>601.553399</td>\n",
       "      <td>56.614566</td>\n",
       "      <td>4.083590</td>\n",
       "    </tr>\n",
       "    <tr>\n",
       "      <th>std</th>\n",
       "      <td>1.443548e+05</td>\n",
       "      <td>41.524956</td>\n",
       "      <td>45.975046</td>\n",
       "      <td>547.420920</td>\n",
       "      <td>152.939723</td>\n",
       "      <td>160.715914</td>\n",
       "      <td>0.273069</td>\n",
       "      <td>0.31189</td>\n",
       "      <td>395.922798</td>\n",
       "      <td>66.195914</td>\n",
       "      <td>17.641306</td>\n",
       "      <td>1.091686</td>\n",
       "    </tr>\n",
       "    <tr>\n",
       "      <th>min</th>\n",
       "      <td>1.000000e+06</td>\n",
       "      <td>1.000000</td>\n",
       "      <td>10.000000</td>\n",
       "      <td>1062.000000</td>\n",
       "      <td>2.970000</td>\n",
       "      <td>55.350000</td>\n",
       "      <td>0.000000</td>\n",
       "      <td>0.00000</td>\n",
       "      <td>13.000000</td>\n",
       "      <td>456.000000</td>\n",
       "      <td>23.000000</td>\n",
       "      <td>0.900000</td>\n",
       "    </tr>\n",
       "    <tr>\n",
       "      <th>25%</th>\n",
       "      <td>1.124999e+06</td>\n",
       "      <td>39.000000</td>\n",
       "      <td>43.000000</td>\n",
       "      <td>1558.000000</td>\n",
       "      <td>228.950000</td>\n",
       "      <td>243.500000</td>\n",
       "      <td>0.000000</td>\n",
       "      <td>0.00000</td>\n",
       "      <td>54.000000</td>\n",
       "      <td>553.000000</td>\n",
       "      <td>34.000000</td>\n",
       "      <td>3.600000</td>\n",
       "    </tr>\n",
       "    <tr>\n",
       "      <th>50%</th>\n",
       "      <td>1.250184e+06</td>\n",
       "      <td>76.000000</td>\n",
       "      <td>76.000000</td>\n",
       "      <td>1993.000000</td>\n",
       "      <td>296.820000</td>\n",
       "      <td>310.460000</td>\n",
       "      <td>0.000000</td>\n",
       "      <td>0.00000</td>\n",
       "      <td>136.000000</td>\n",
       "      <td>596.000000</td>\n",
       "      <td>56.000000</td>\n",
       "      <td>4.000000</td>\n",
       "    </tr>\n",
       "    <tr>\n",
       "      <th>75%</th>\n",
       "      <td>1.375140e+06</td>\n",
       "      <td>111.000000</td>\n",
       "      <td>110.000000</td>\n",
       "      <td>2539.000000</td>\n",
       "      <td>445.230000</td>\n",
       "      <td>458.870000</td>\n",
       "      <td>0.000000</td>\n",
       "      <td>0.00000</td>\n",
       "      <td>324.000000</td>\n",
       "      <td>651.000000</td>\n",
       "      <td>77.000000</td>\n",
       "      <td>4.500000</td>\n",
       "    </tr>\n",
       "    <tr>\n",
       "      <th>max</th>\n",
       "      <td>1.499999e+06</td>\n",
       "      <td>145.000000</td>\n",
       "      <td>186.000000</td>\n",
       "      <td>2956.000000</td>\n",
       "      <td>866.270000</td>\n",
       "      <td>866.270000</td>\n",
       "      <td>1.000000</td>\n",
       "      <td>1.00000</td>\n",
       "      <td>24299.000000</td>\n",
       "      <td>713.000000</td>\n",
       "      <td>93.000000</td>\n",
       "      <td>7.000000</td>\n",
       "    </tr>\n",
       "  </tbody>\n",
       "</table>\n",
       "</div>"
      ],
      "text/plain": [
       "                 id           week      center_id        meal_id  \\\n",
       "count  4.565480e+05  456548.000000  456548.000000  456548.000000   \n",
       "mean   1.250096e+06      74.768771      82.105796    2024.337458   \n",
       "std    1.443548e+05      41.524956      45.975046     547.420920   \n",
       "min    1.000000e+06       1.000000      10.000000    1062.000000   \n",
       "25%    1.124999e+06      39.000000      43.000000    1558.000000   \n",
       "50%    1.250184e+06      76.000000      76.000000    1993.000000   \n",
       "75%    1.375140e+06     111.000000     110.000000    2539.000000   \n",
       "max    1.499999e+06     145.000000     186.000000    2956.000000   \n",
       "\n",
       "       checkout_price     base_price  emailer_for_promotion  \\\n",
       "count   456548.000000  456548.000000          456548.000000   \n",
       "mean       332.238933     354.156627               0.081152   \n",
       "std        152.939723     160.715914               0.273069   \n",
       "min          2.970000      55.350000               0.000000   \n",
       "25%        228.950000     243.500000               0.000000   \n",
       "50%        296.820000     310.460000               0.000000   \n",
       "75%        445.230000     458.870000               0.000000   \n",
       "max        866.270000     866.270000               1.000000   \n",
       "\n",
       "       homepage_featured     num_orders      city_code    region_code  \\\n",
       "count       456548.00000  456548.000000  456548.000000  456548.000000   \n",
       "mean             0.10920     261.872760     601.553399      56.614566   \n",
       "std              0.31189     395.922798      66.195914      17.641306   \n",
       "min              0.00000      13.000000     456.000000      23.000000   \n",
       "25%              0.00000      54.000000     553.000000      34.000000   \n",
       "50%              0.00000     136.000000     596.000000      56.000000   \n",
       "75%              0.00000     324.000000     651.000000      77.000000   \n",
       "max              1.00000   24299.000000     713.000000      93.000000   \n",
       "\n",
       "             op_area  \n",
       "count  456548.000000  \n",
       "mean        4.083590  \n",
       "std         1.091686  \n",
       "min         0.900000  \n",
       "25%         3.600000  \n",
       "50%         4.000000  \n",
       "75%         4.500000  \n",
       "max         7.000000  "
      ]
     },
     "metadata": {},
     "output_type": "display_data"
    }
   ],
   "source": [
    "df.describe()"
   ]
  },
  {
   "cell_type": "markdown",
   "id": "fb39da4e",
   "metadata": {},
   "source": [
    "**Summary:** Assigns values to variables."
   ]
  },
  {
   "cell_type": "code",
   "execution_count": null,
   "id": "9cfde9e5",
   "metadata": {},
   "outputs": [
    {
     "data": {
      "text/html": [
       "<div>\n",
       "<style scoped>\n",
       "    .dataframe tbody tr th:only-of-type {\n",
       "        vertical-align: middle;\n",
       "    }\n",
       "\n",
       "    .dataframe tbody tr th {\n",
       "        vertical-align: top;\n",
       "    }\n",
       "\n",
       "    .dataframe thead th {\n",
       "        text-align: right;\n",
       "    }\n",
       "</style>\n",
       "<table border=\"1\" class=\"dataframe\">\n",
       "  <thead>\n",
       "    <tr style=\"text-align: right;\">\n",
       "      <th></th>\n",
       "      <th>num_orders</th>\n",
       "    </tr>\n",
       "    <tr>\n",
       "      <th>week</th>\n",
       "      <th></th>\n",
       "    </tr>\n",
       "  </thead>\n",
       "  <tbody>\n",
       "    <tr>\n",
       "      <th>1</th>\n",
       "      <td>792261</td>\n",
       "    </tr>\n",
       "    <tr>\n",
       "      <th>2</th>\n",
       "      <td>787084</td>\n",
       "    </tr>\n",
       "    <tr>\n",
       "      <th>3</th>\n",
       "      <td>695262</td>\n",
       "    </tr>\n",
       "    <tr>\n",
       "      <th>4</th>\n",
       "      <td>743529</td>\n",
       "    </tr>\n",
       "    <tr>\n",
       "      <th>5</th>\n",
       "      <td>1198675</td>\n",
       "    </tr>\n",
       "    <tr>\n",
       "      <th>...</th>\n",
       "      <td>...</td>\n",
       "    </tr>\n",
       "    <tr>\n",
       "      <th>141</th>\n",
       "      <td>776240</td>\n",
       "    </tr>\n",
       "    <tr>\n",
       "      <th>142</th>\n",
       "      <td>739661</td>\n",
       "    </tr>\n",
       "    <tr>\n",
       "      <th>143</th>\n",
       "      <td>759926</td>\n",
       "    </tr>\n",
       "    <tr>\n",
       "      <th>144</th>\n",
       "      <td>801197</td>\n",
       "    </tr>\n",
       "    <tr>\n",
       "      <th>145</th>\n",
       "      <td>671926</td>\n",
       "    </tr>\n",
       "  </tbody>\n",
       "</table>\n",
       "<p>145 rows × 1 columns</p>\n",
       "</div>"
      ],
      "text/plain": [
       "      num_orders\n",
       "week            \n",
       "1         792261\n",
       "2         787084\n",
       "3         695262\n",
       "4         743529\n",
       "5        1198675\n",
       "...          ...\n",
       "141       776240\n",
       "142       739661\n",
       "143       759926\n",
       "144       801197\n",
       "145       671926\n",
       "\n",
       "[145 rows x 1 columns]"
      ]
     },
     "metadata": {},
     "output_type": "display_data"
    }
   ],
   "source": [
    "ts_tot_orders = df.groupby(['week'])['num_orders'].sum()\n",
    "ts_tot_orders = pd.DataFrame(ts_tot_orders)\n",
    "ts_tot_orders"
   ]
  },
  {
   "cell_type": "markdown",
   "id": "1b6eafb9",
   "metadata": {},
   "source": [
    "**Summary:** Assigns values to variables."
   ]
  },
  {
   "cell_type": "code",
   "execution_count": null,
   "id": "f0491c85",
   "metadata": {},
   "outputs": [
    {
     "data": {
      "application/vnd.plotly.v1+json": {
       "config": {
        "linkText": "Export to plot.ly",
        "plotlyServerURL": "https://plot.ly",
        "showLink": false
       },
       "data": [
        {
         "marker": {
          "color": "Blue"
         },
         "name": "Time Series for num_orders",
         "type": "scatter",
         "x": [
          1,
          2,
          3,
          4,
          5,
          6,
          7,
          8,
          9,
          10,
          11,
          12,
          13,
          14,
          15,
          16,
          17,
          18,
          19,
          20,
          21,
          22,
          23,
          24,
          25,
          26,
          27,
          28,
          29,
          30,
          31,
          32,
          33,
          34,
          35,
          36,
          37,
          38,
          39,
          40,
          41,
          42,
          43,
          44,
          45,
          46,
          47,
          48,
          49,
          50,
          51,
          52,
          53,
          54,
          55,
          56,
          57,
          58,
          59,
          60,
          61,
          62,
          63,
          64,
          65,
          66,
          67,
          68,
          69,
          70,
          71,
          72,
          73,
          74,
          75,
          76,
          77,
          78,
          79,
          80,
          81,
          82,
          83,
          84,
          85,
          86,
          87,
          88,
          89,
          90,
          91,
          92,
          93,
          94,
          95,
          96,
          97,
          98,
          99,
          100,
          101,
          102,
          103,
          104,
          105,
          106,
          107,
          108,
          109,
          110,
          111,
          112,
          113,
          114,
          115,
          116,
          117,
          118,
          119,
          120,
          121,
          122,
          123,
          124,
          125,
          126,
          127,
          128,
          129,
          130,
          131,
          132,
          133,
          134,
          135,
          136,
          137,
          138,
          139,
          140,
          141,
          142,
          143,
          144,
          145
         ],
         "y": [
          792261,
          787084,
          695262,
          743529,
          1198675,
          947288,
          934803,
          670518,
          723243,
          811825,
          772225,
          690259,
          656102,
          636981,
          651719,
          611515,
          820285,
          932560,
          787196,
          677834,
          707013,
          834111,
          773271,
          647341,
          749583,
          805805,
          740014,
          648863,
          625414,
          915399,
          783214,
          1034202,
          730936,
          693603,
          630458,
          724865,
          877853,
          974566,
          770964,
          807159,
          791493,
          766289,
          693271,
          738583,
          981199,
          862620,
          808269,
          1303457,
          936980,
          890778,
          723036,
          1046811,
          1108236,
          757268,
          875145,
          843250,
          916721,
          834445,
          776781,
          1131459,
          860105,
          380065,
          812075,
          784508,
          844869,
          710083,
          756281,
          1009974,
          1075188,
          1004649,
          1015726,
          732551,
          702678,
          789591,
          970760,
          902928,
          833394,
          862030,
          1004611,
          698063,
          681412,
          859477,
          900091,
          768315,
          860433,
          823515,
          805140,
          745193,
          743489,
          849868,
          834397,
          908145,
          900170,
          825030,
          905841,
          765117,
          609977,
          894021,
          742048,
          1088162,
          999447,
          890983,
          713569,
          774644,
          891479,
          847485,
          783851,
          908764,
          1068318,
          889255,
          892631,
          852107,
          889696,
          813601,
          805469,
          855465,
          809625,
          777707,
          811709,
          753871,
          950500,
          944706,
          889926,
          827257,
          750541,
          810838,
          762737,
          878397,
          843661,
          920019,
          899953,
          939374,
          835583,
          975072,
          777106,
          769623,
          719740,
          667343,
          751935,
          802689,
          776240,
          739661,
          759926,
          801197,
          671926
         ]
        }
       ],
       "layout": {
        "plot_bgcolor": "rgba(0,0,0,0)",
        "template": {
         "data": {
          "bar": [
           {
            "error_x": {
             "color": "#2a3f5f"
            },
            "error_y": {
             "color": "#2a3f5f"
            },
            "marker": {
             "line": {
              "color": "#E5ECF6",
              "width": 0.5
             },
             "pattern": {
              "fillmode": "overlay",
              "size": 10,
              "solidity": 0.2
             }
            },
            "type": "bar"
           }
          ],
          "barpolar": [
           {
            "marker": {
             "line": {
              "color": "#E5ECF6",
              "width": 0.5
             },
             "pattern": {
              "fillmode": "overlay",
              "size": 10,
              "solidity": 0.2
             }
            },
            "type": "barpolar"
           }
          ],
          "carpet": [
           {
            "aaxis": {
             "endlinecolor": "#2a3f5f",
             "gridcolor": "white",
             "linecolor": "white",
             "minorgridcolor": "white",
             "startlinecolor": "#2a3f5f"
            },
            "baxis": {
             "endlinecolor": "#2a3f5f",
             "gridcolor": "white",
             "linecolor": "white",
             "minorgridcolor": "white",
             "startlinecolor": "#2a3f5f"
            },
            "type": "carpet"
           }
          ],
          "choropleth": [
           {
            "colorbar": {
             "outlinewidth": 0,
             "ticks": ""
            },
            "type": "choropleth"
           }
          ],
          "contour": [
           {
            "colorbar": {
             "outlinewidth": 0,
             "ticks": ""
            },
            "colorscale": [
             [
              0,
              "#0d0887"
             ],
             [
              0.1111111111111111,
              "#46039f"
             ],
             [
              0.2222222222222222,
              "#7201a8"
             ],
             [
              0.3333333333333333,
              "#9c179e"
             ],
             [
              0.4444444444444444,
              "#bd3786"
             ],
             [
              0.5555555555555556,
              "#d8576b"
             ],
             [
              0.6666666666666666,
              "#ed7953"
             ],
             [
              0.7777777777777778,
              "#fb9f3a"
             ],
             [
              0.8888888888888888,
              "#fdca26"
             ],
             [
              1,
              "#f0f921"
             ]
            ],
            "type": "contour"
           }
          ],
          "contourcarpet": [
           {
            "colorbar": {
             "outlinewidth": 0,
             "ticks": ""
            },
            "type": "contourcarpet"
           }
          ],
          "heatmap": [
           {
            "colorbar": {
             "outlinewidth": 0,
             "ticks": ""
            },
            "colorscale": [
             [
              0,
              "#0d0887"
             ],
             [
              0.1111111111111111,
              "#46039f"
             ],
             [
              0.2222222222222222,
              "#7201a8"
             ],
             [
              0.3333333333333333,
              "#9c179e"
             ],
             [
              0.4444444444444444,
              "#bd3786"
             ],
             [
              0.5555555555555556,
              "#d8576b"
             ],
             [
              0.6666666666666666,
              "#ed7953"
             ],
             [
              0.7777777777777778,
              "#fb9f3a"
             ],
             [
              0.8888888888888888,
              "#fdca26"
             ],
             [
              1,
              "#f0f921"
             ]
            ],
            "type": "heatmap"
           }
          ],
          "heatmapgl": [
           {
            "colorbar": {
             "outlinewidth": 0,
             "ticks": ""
            },
            "colorscale": [
             [
              0,
              "#0d0887"
             ],
             [
              0.1111111111111111,
              "#46039f"
             ],
             [
              0.2222222222222222,
              "#7201a8"
             ],
             [
              0.3333333333333333,
              "#9c179e"
             ],
             [
              0.4444444444444444,
              "#bd3786"
             ],
             [
              0.5555555555555556,
              "#d8576b"
             ],
             [
              0.6666666666666666,
              "#ed7953"
             ],
             [
              0.7777777777777778,
              "#fb9f3a"
             ],
             [
              0.8888888888888888,
              "#fdca26"
             ],
             [
              1,
              "#f0f921"
             ]
            ],
            "type": "heatmapgl"
           }
          ],
          "histogram": [
           {
            "marker": {
             "pattern": {
              "fillmode": "overlay",
              "size": 10,
              "solidity": 0.2
             }
            },
            "type": "histogram"
           }
          ],
          "histogram2d": [
           {
            "colorbar": {
             "outlinewidth": 0,
             "ticks": ""
            },
            "colorscale": [
             [
              0,
              "#0d0887"
             ],
             [
              0.1111111111111111,
              "#46039f"
             ],
             [
              0.2222222222222222,
              "#7201a8"
             ],
             [
              0.3333333333333333,
              "#9c179e"
             ],
             [
              0.4444444444444444,
              "#bd3786"
             ],
             [
              0.5555555555555556,
              "#d8576b"
             ],
             [
              0.6666666666666666,
              "#ed7953"
             ],
             [
              0.7777777777777778,
              "#fb9f3a"
             ],
             [
              0.8888888888888888,
              "#fdca26"
             ],
             [
              1,
              "#f0f921"
             ]
            ],
            "type": "histogram2d"
           }
          ],
          "histogram2dcontour": [
           {
            "colorbar": {
             "outlinewidth": 0,
             "ticks": ""
            },
            "colorscale": [
             [
              0,
              "#0d0887"
             ],
             [
              0.1111111111111111,
              "#46039f"
             ],
             [
              0.2222222222222222,
              "#7201a8"
             ],
             [
              0.3333333333333333,
              "#9c179e"
             ],
             [
              0.4444444444444444,
              "#bd3786"
             ],
             [
              0.5555555555555556,
              "#d8576b"
             ],
             [
              0.6666666666666666,
              "#ed7953"
             ],
             [
              0.7777777777777778,
              "#fb9f3a"
             ],
             [
              0.8888888888888888,
              "#fdca26"
             ],
             [
              1,
              "#f0f921"
             ]
            ],
            "type": "histogram2dcontour"
           }
          ],
          "mesh3d": [
           {
            "colorbar": {
             "outlinewidth": 0,
             "ticks": ""
            },
            "type": "mesh3d"
           }
          ],
          "parcoords": [
           {
            "line": {
             "colorbar": {
              "outlinewidth": 0,
              "ticks": ""
             }
            },
            "type": "parcoords"
           }
          ],
          "pie": [
           {
            "automargin": true,
            "type": "pie"
           }
          ],
          "scatter": [
           {
            "fillpattern": {
             "fillmode": "overlay",
             "size": 10,
             "solidity": 0.2
            },
            "type": "scatter"
           }
          ],
          "scatter3d": [
           {
            "line": {
             "colorbar": {
              "outlinewidth": 0,
              "ticks": ""
             }
            },
            "marker": {
             "colorbar": {
              "outlinewidth": 0,
              "ticks": ""
             }
            },
            "type": "scatter3d"
           }
          ],
          "scattercarpet": [
           {
            "marker": {
             "colorbar": {
              "outlinewidth": 0,
              "ticks": ""
             }
            },
            "type": "scattercarpet"
           }
          ],
          "scattergeo": [
           {
            "marker": {
             "colorbar": {
              "outlinewidth": 0,
              "ticks": ""
             }
            },
            "type": "scattergeo"
           }
          ],
          "scattergl": [
           {
            "marker": {
             "colorbar": {
              "outlinewidth": 0,
              "ticks": ""
             }
            },
            "type": "scattergl"
           }
          ],
          "scattermapbox": [
           {
            "marker": {
             "colorbar": {
              "outlinewidth": 0,
              "ticks": ""
             }
            },
            "type": "scattermapbox"
           }
          ],
          "scatterpolar": [
           {
            "marker": {
             "colorbar": {
              "outlinewidth": 0,
              "ticks": ""
             }
            },
            "type": "scatterpolar"
           }
          ],
          "scatterpolargl": [
           {
            "marker": {
             "colorbar": {
              "outlinewidth": 0,
              "ticks": ""
             }
            },
            "type": "scatterpolargl"
           }
          ],
          "scatterternary": [
           {
            "marker": {
             "colorbar": {
              "outlinewidth": 0,
              "ticks": ""
             }
            },
            "type": "scatterternary"
           }
          ],
          "surface": [
           {
            "colorbar": {
             "outlinewidth": 0,
             "ticks": ""
            },
            "colorscale": [
             [
              0,
              "#0d0887"
             ],
             [
              0.1111111111111111,
              "#46039f"
             ],
             [
              0.2222222222222222,
              "#7201a8"
             ],
             [
              0.3333333333333333,
              "#9c179e"
             ],
             [
              0.4444444444444444,
              "#bd3786"
             ],
             [
              0.5555555555555556,
              "#d8576b"
             ],
             [
              0.6666666666666666,
              "#ed7953"
             ],
             [
              0.7777777777777778,
              "#fb9f3a"
             ],
             [
              0.8888888888888888,
              "#fdca26"
             ],
             [
              1,
              "#f0f921"
             ]
            ],
            "type": "surface"
           }
          ],
          "table": [
           {
            "cells": {
             "fill": {
              "color": "#EBF0F8"
             },
             "line": {
              "color": "white"
             }
            },
            "header": {
             "fill": {
              "color": "#C8D4E3"
             },
             "line": {
              "color": "white"
             }
            },
            "type": "table"
           }
          ]
         },
         "layout": {
          "annotationdefaults": {
           "arrowcolor": "#2a3f5f",
           "arrowhead": 0,
           "arrowwidth": 1
          },
          "autotypenumbers": "strict",
          "coloraxis": {
           "colorbar": {
            "outlinewidth": 0,
            "ticks": ""
           }
          },
          "colorscale": {
           "diverging": [
            [
             0,
             "#8e0152"
            ],
            [
             0.1,
             "#c51b7d"
            ],
            [
             0.2,
             "#de77ae"
            ],
            [
             0.3,
             "#f1b6da"
            ],
            [
             0.4,
             "#fde0ef"
            ],
            [
             0.5,
             "#f7f7f7"
            ],
            [
             0.6,
             "#e6f5d0"
            ],
            [
             0.7,
             "#b8e186"
            ],
            [
             0.8,
             "#7fbc41"
            ],
            [
             0.9,
             "#4d9221"
            ],
            [
             1,
             "#276419"
            ]
           ],
           "sequential": [
            [
             0,
             "#0d0887"
            ],
            [
             0.1111111111111111,
             "#46039f"
            ],
            [
             0.2222222222222222,
             "#7201a8"
            ],
            [
             0.3333333333333333,
             "#9c179e"
            ],
            [
             0.4444444444444444,
             "#bd3786"
            ],
            [
             0.5555555555555556,
             "#d8576b"
            ],
            [
             0.6666666666666666,
             "#ed7953"
            ],
            [
             0.7777777777777778,
             "#fb9f3a"
            ],
            [
             0.8888888888888888,
             "#fdca26"
            ],
            [
             1,
             "#f0f921"
            ]
           ],
           "sequentialminus": [
            [
             0,
             "#0d0887"
            ],
            [
             0.1111111111111111,
             "#46039f"
            ],
            [
             0.2222222222222222,
             "#7201a8"
            ],
            [
             0.3333333333333333,
             "#9c179e"
            ],
            [
             0.4444444444444444,
             "#bd3786"
            ],
            [
             0.5555555555555556,
             "#d8576b"
            ],
            [
             0.6666666666666666,
             "#ed7953"
            ],
            [
             0.7777777777777778,
             "#fb9f3a"
            ],
            [
             0.8888888888888888,
             "#fdca26"
            ],
            [
             1,
             "#f0f921"
            ]
           ]
          },
          "colorway": [
           "#636efa",
           "#EF553B",
           "#00cc96",
           "#ab63fa",
           "#FFA15A",
           "#19d3f3",
           "#FF6692",
           "#B6E880",
           "#FF97FF",
           "#FECB52"
          ],
          "font": {
           "color": "#2a3f5f"
          },
          "geo": {
           "bgcolor": "white",
           "lakecolor": "white",
           "landcolor": "#E5ECF6",
           "showlakes": true,
           "showland": true,
           "subunitcolor": "white"
          },
          "hoverlabel": {
           "align": "left"
          },
          "hovermode": "closest",
          "mapbox": {
           "style": "light"
          },
          "paper_bgcolor": "white",
          "plot_bgcolor": "#E5ECF6",
          "polar": {
           "angularaxis": {
            "gridcolor": "white",
            "linecolor": "white",
            "ticks": ""
           },
           "bgcolor": "#E5ECF6",
           "radialaxis": {
            "gridcolor": "white",
            "linecolor": "white",
            "ticks": ""
           }
          },
          "scene": {
           "xaxis": {
            "backgroundcolor": "#E5ECF6",
            "gridcolor": "white",
            "gridwidth": 2,
            "linecolor": "white",
            "showbackground": true,
            "ticks": "",
            "zerolinecolor": "white"
           },
           "yaxis": {
            "backgroundcolor": "#E5ECF6",
            "gridcolor": "white",
            "gridwidth": 2,
            "linecolor": "white",
            "showbackground": true,
            "ticks": "",
            "zerolinecolor": "white"
           },
           "zaxis": {
            "backgroundcolor": "#E5ECF6",
            "gridcolor": "white",
            "gridwidth": 2,
            "linecolor": "white",
            "showbackground": true,
            "ticks": "",
            "zerolinecolor": "white"
           }
          },
          "shapedefaults": {
           "line": {
            "color": "#2a3f5f"
           }
          },
          "ternary": {
           "aaxis": {
            "gridcolor": "white",
            "linecolor": "white",
            "ticks": ""
           },
           "baxis": {
            "gridcolor": "white",
            "linecolor": "white",
            "ticks": ""
           },
           "bgcolor": "#E5ECF6",
           "caxis": {
            "gridcolor": "white",
            "linecolor": "white",
            "ticks": ""
           }
          },
          "title": {
           "x": 0.05
          },
          "xaxis": {
           "automargin": true,
           "gridcolor": "white",
           "linecolor": "white",
           "ticks": "",
           "title": {
            "standoff": 15
           },
           "zerolinecolor": "white",
           "zerolinewidth": 2
          },
          "yaxis": {
           "automargin": true,
           "gridcolor": "white",
           "linecolor": "white",
           "ticks": "",
           "title": {
            "standoff": 15
           },
           "zerolinecolor": "white",
           "zerolinewidth": 2
          }
         }
        },
        "title": {
         "text": "Total orders per week"
        },
        "xaxis": {
         "title": {
          "text": "Week"
         }
        },
        "yaxis": {
         "title": {
          "text": "Total orders"
         }
        }
       }
      }
     },
     "metadata": {},
     "output_type": "display_data"
    }
   ],
   "source": [
    "plot_data = [\n",
    "    go.Scatter(\n",
    "        x=ts_tot_orders.index,\n",
    "        y=ts_tot_orders['num_orders'],\n",
    "        name='Time Series for num_orders',\n",
    "        marker = dict(color = 'Blue')\n",
    "        #x_axis=\"OTI\",\n",
    "        #y_axis=\"time\",http://localhost:8888/notebooks/Kaggle_for_timepass/hackathon/Sigma-thon-master/Sigma-thon-master/eda1.ipynb#\n",
    "    )\n",
    "]\n",
    "plot_layout = go.Layout(\n",
    "        title='Total orders per week',\n",
    "        yaxis_title='Total orders',\n",
    "        xaxis_title='Week',\n",
    "        plot_bgcolor='rgba(0,0,0,0)'\n",
    "    )\n",
    "fig = go.Figure(data=plot_data, layout=plot_layout)\n",
    "pyoff.iplot(fig)"
   ]
  },
  {
   "cell_type": "markdown",
   "id": "dc046e4b",
   "metadata": {},
   "source": [
    "![Chart](Images/ts1.png)\n"
   ]
  },
  {
   "cell_type": "markdown",
   "id": "6bab085f",
   "metadata": {},
   "source": [
    "**Summary:** Assigns values to variables. Calls function: `print()`."
   ]
  },
  {
   "cell_type": "code",
   "execution_count": null,
   "id": "2179fb36",
   "metadata": {},
   "outputs": [
    {
     "name": "stdout",
     "output_type": "stream",
     "text": [
      "        id  week  center_id  meal_id  checkout_price  base_price  \\\n",
      "0  1379560     1         55     1885          136.83      152.29   \n",
      "1  1466964     1         55     1993          136.83      135.83   \n",
      "2  1346989     1         55     2539          134.86      135.86   \n",
      "3  1338232     1         55     2139          339.50      437.53   \n",
      "4  1448490     1         55     2631          243.50      242.50   \n",
      "\n",
      "   emailer_for_promotion  homepage_featured  num_orders  city_code  \\\n",
      "0                      0                  0         177        647   \n",
      "1                      0                  0         270        647   \n",
      "2                      0                  0         189        647   \n",
      "3                      0                  0          54        647   \n",
      "4                      0                  0          40        647   \n",
      "\n",
      "   region_code  center_type  op_area  category  cuisine  \n",
      "0           56            0      2.0         0        0  \n",
      "1           56            0      2.0         0        0  \n",
      "2           56            0      2.0         0        0  \n",
      "3           56            0      2.0         0        1  \n",
      "4           56            0      2.0         0        1  \n"
     ]
    }
   ],
   "source": [
    "cat_var = ['center_type',\n",
    " 'category',\n",
    " 'cuisine']\n",
    "\n",
    "\n",
    "\n",
    "df_=df.copy()\n",
    "\n",
    "for i in cat_var:\n",
    "    df_[i] = pd.factorize(df_[i])[0]\n",
    "\n",
    "print(df_.head())\n",
    "df_.to_csv('../Data/train_proc.csv', index=False)\n",
    "\n",
    "\n",
    "df_ = df_.loc[:, ['id', 'week', 'center_id', 'meal_id', 'checkout_price', 'base_price',\n",
    "       'emailer_for_promotion', 'homepage_featured', 'city_code', 'op_area', 'category', 'num_orders']] \n",
    "\n",
    "\n",
    "X = df_.drop(['num_orders'], axis=1).values\n",
    "# X = df_[['center_type',\n",
    "#  'category',\n",
    "#  'cuisine']]\n",
    "y = df_['num_orders'].values\n",
    "\n",
    "\n",
    "\n"
   ]
  },
  {
   "cell_type": "markdown",
   "id": "7ae3c2e2",
   "metadata": {},
   "source": [
    "**Summary:** Assigns values to variables."
   ]
  },
  {
   "cell_type": "code",
   "execution_count": null,
   "id": "77195138",
   "metadata": {},
   "outputs": [],
   "source": [
    "X_train, X_test, y_train, y_test = train_test_split(X, y, test_size=0.2, random_state=0)"
   ]
  },
  {
   "cell_type": "markdown",
   "id": "662a720b",
   "metadata": {},
   "source": [
    "**Summary:** Assigns values to variables. Calls function: `print()`."
   ]
  },
  {
   "cell_type": "code",
   "execution_count": null,
   "id": "8652e440",
   "metadata": {},
   "outputs": [
    {
     "name": "stdout",
     "output_type": "stream",
     "text": [
      "Root Mean Squared Error for LinearRegression: 340.9701748303895\n"
     ]
    }
   ],
   "source": [
    "lr = LinearRegression()  \n",
    "lr.fit(X_train, y_train)\n",
    "y_pred = lr.predict(X_test)\n",
    "print('Root Mean Squared Error for LinearRegression:', np.sqrt(metrics.mean_squared_error(y_test, y_pred)))"
   ]
  },
  {
   "cell_type": "markdown",
   "id": "8905045d",
   "metadata": {},
   "source": [
    "**Summary:** Imports libraries."
   ]
  },
  {
   "cell_type": "code",
   "execution_count": null,
   "id": "b759a94e",
   "metadata": {},
   "outputs": [
    {
     "data": {
      "image/png": "[encoded data removed]",
      "text/plain": [
       "<Figure size 1700x800 with 1 Axes>"
      ]
     },
     "metadata": {},
     "output_type": "display_data"
    }
   ],
   "source": [
    "#Trying to plot them all at once\n",
    "from matplotlib import pyplot\n",
    "pyplot.figure(figsize=(17, 8))\n",
    "pyplot.plot(y_test, label=\"actual\")\n",
    "pyplot.plot(y_pred, color='red', label=\"predicted\")\n",
    "pyplot.legend(loc='best')\n",
    "#pyplot.plot(predictions, color='red')\n",
    "pyplot.show()"
   ]
  },
  {
   "cell_type": "markdown",
   "id": "046118c4",
   "metadata": {},
   "source": [
    "**Summary:** Imports libraries."
   ]
  },
  {
   "cell_type": "code",
   "execution_count": null,
   "id": "e22408aa",
   "metadata": {},
   "outputs": [],
   "source": [
    "import xgboost as xgb"
   ]
  },
  {
   "cell_type": "markdown",
   "id": "3b264ab8",
   "metadata": {},
   "source": [
    "**Summary:** Imports libraries."
   ]
  },
  {
   "cell_type": "code",
   "execution_count": null,
   "id": "30542899",
   "metadata": {},
   "outputs": [],
   "source": [
    "from sklearn.metrics import auc, accuracy_score, confusion_matrix, mean_squared_error"
   ]
  },
  {
   "cell_type": "markdown",
   "id": "a432c5d8",
   "metadata": {},
   "source": [
    "**Summary:** Assigns values to variables. Calls function: `print()`."
   ]
  },
  {
   "cell_type": "code",
   "execution_count": null,
   "id": "ac6f72c5",
   "metadata": {},
   "outputs": [
    {
     "name": "stderr",
     "output_type": "stream",
     "text": [
      "/Users/basartemur/miniforge3/envs/scm-env/lib/python3.9/site-packages/xgboost/core.py:158: UserWarning:\n",
      "\n",
      "[18:44:41] WARNING: /Users/runner/work/xgboost/xgboost/src/objective/regression_obj.cu:227: reg:linear is now deprecated in favor of reg:squarederror.\n",
      "\n"
     ]
    },
    {
     "name": "stdout",
     "output_type": "stream",
     "text": [
      "157.35168136444582\n"
     ]
    }
   ],
   "source": [
    "xgb_model = xgb.XGBRegressor(objective=\"reg:linear\", random_state=42)\n",
    "\n",
    "xgb_model.fit(X_train, y_train)\n",
    "\n",
    "y_pred = xgb_model.predict(X_test)\n",
    "\n",
    "mse=mean_squared_error(y_test, y_pred)\n",
    "\n",
    "print(np.sqrt(mse))"
   ]
  },
  {
   "cell_type": "markdown",
   "id": "dd6b049d",
   "metadata": {},
   "source": [
    "**Summary:** Imports libraries."
   ]
  },
  {
   "cell_type": "code",
   "execution_count": null,
   "id": "169cda01",
   "metadata": {},
   "outputs": [
    {
     "data": {
      "image/png": "[encoded data removed]",
      "text/plain": [
       "<Figure size 1700x800 with 1 Axes>"
      ]
     },
     "metadata": {},
     "output_type": "display_data"
    }
   ],
   "source": [
    "#Trying to plot them all at once\n",
    "from matplotlib import pyplot\n",
    "pyplot.figure(figsize=(17, 8))\n",
    "pyplot.plot(y_test, label=\"actual\")\n",
    "pyplot.plot(y_pred, color='red', label=\"predicted\")\n",
    "pyplot.legend(loc='best')\n",
    "#pyplot.plot(predictions, color='red')\n",
    "pyplot.show()"
   ]
  },
  {
   "cell_type": "markdown",
   "id": "b7d0b171",
   "metadata": {},
   "source": [
    "**Summary:** Executes general Python code."
   ]
  },
  {
   "cell_type": "code",
   "execution_count": null,
   "id": "485c65fc",
   "metadata": {},
   "outputs": [
    {
     "data": {
      "text/plain": [
       "<Axes: title={'center': 'Feature importance'}, xlabel='F score', ylabel='Features'>"
      ]
     },
     "metadata": {},
     "output_type": "display_data"
    },
    {
     "data": {
      "image/png": "[encoded data removed]",
      "text/plain": [
       "<Figure size 640x480 with 1 Axes>"
      ]
     },
     "metadata": {},
     "output_type": "display_data"
    }
   ],
   "source": [
    "xgb.plot_importance(xgb_model)"
   ]
  },
  {
   "cell_type": "markdown",
   "id": "0bb6be6f",
   "metadata": {},
   "source": [
    "**Summary:** Assigns values to variables. Calls function: `print()`."
   ]
  },
  {
   "cell_type": "code",
   "execution_count": null,
   "id": "9bcfe3a9",
   "metadata": {},
   "outputs": [
    {
     "name": "stdout",
     "output_type": "stream",
     "text": [
      "        id  week  center_id  meal_id  checkout_price  base_price  \\\n",
      "0  1028232   146         55     1885          158.11      159.11   \n",
      "1  1127204   146         55     1993          160.11      159.11   \n",
      "2  1212707   146         55     2539          157.14      159.14   \n",
      "3  1082698   146         55     2631          162.02      162.02   \n",
      "4  1400926   146         55     1248          163.93      163.93   \n",
      "\n",
      "   emailer_for_promotion  homepage_featured  \n",
      "0                      0                  0  \n",
      "1                      0                  0  \n",
      "2                      0                  0  \n",
      "3                      0                  0  \n",
      "4                      0                  0  \n"
     ]
    }
   ],
   "source": [
    "# read test dataset to be used for predictions\n",
    "df_test = pd.read_csv('../Data/test.csv')\n",
    "print(df_test.head())"
   ]
  },
  {
   "cell_type": "markdown",
   "id": "6e3fc6e3",
   "metadata": {},
   "source": [
    "**Summary:** Assigns values to variables. Calls function: `print()`."
   ]
  },
  {
   "cell_type": "code",
   "execution_count": null,
   "id": "66aaab3a",
   "metadata": {},
   "outputs": [
    {
     "name": "stdout",
     "output_type": "stream",
     "text": [
      "        id  week  center_id  meal_id  checkout_price  base_price  \\\n",
      "0  1028232   146         55     1885          158.11      159.11   \n",
      "1  1127204   146         55     1993          160.11      159.11   \n",
      "2  1212707   146         55     2539          157.14      159.14   \n",
      "3  1082698   146         55     2631          162.02      162.02   \n",
      "4  1400926   146         55     1248          163.93      163.93   \n",
      "\n",
      "   emailer_for_promotion  homepage_featured  city_code  region_code  \\\n",
      "0                      0                  0        647           56   \n",
      "1                      0                  0        647           56   \n",
      "2                      0                  0        647           56   \n",
      "3                      0                  0        647           56   \n",
      "4                      0                  0        647           56   \n",
      "\n",
      "  center_type  op_area  \n",
      "0      TYPE_C      2.0  \n",
      "1      TYPE_C      2.0  \n",
      "2      TYPE_C      2.0  \n",
      "3      TYPE_C      2.0  \n",
      "4      TYPE_C      2.0  \n"
     ]
    }
   ],
   "source": [
    "#Process unseen dataset\n",
    "df_TstMerg1 = pd.merge(df_test, df_CentInf, how='inner', on='center_id')\n",
    "print(df_TstMerg1.head())"
   ]
  },
  {
   "cell_type": "markdown",
   "id": "d7909b16",
   "metadata": {},
   "source": [
    "**Summary:** Assigns values to variables. Calls function: `print()`."
   ]
  },
  {
   "cell_type": "code",
   "execution_count": null,
   "id": "010f355b",
   "metadata": {},
   "outputs": [
    {
     "name": "stdout",
     "output_type": "stream",
     "text": [
      "        id  week  center_id  meal_id  checkout_price  base_price  \\\n",
      "0  1028232   146         55     1885          158.11      159.11   \n",
      "1  1127204   146         55     1993          160.11      159.11   \n",
      "2  1212707   146         55     2539          157.14      159.14   \n",
      "3  1082698   146         55     2631          162.02      162.02   \n",
      "4  1400926   146         55     1248          163.93      163.93   \n",
      "\n",
      "   emailer_for_promotion  homepage_featured  city_code  region_code  \\\n",
      "0                      0                  0        647           56   \n",
      "1                      0                  0        647           56   \n",
      "2                      0                  0        647           56   \n",
      "3                      0                  0        647           56   \n",
      "4                      0                  0        647           56   \n",
      "\n",
      "  center_type  op_area   category cuisine  \n",
      "0      TYPE_C      2.0  Beverages    Thai  \n",
      "1      TYPE_C      2.0  Beverages    Thai  \n",
      "2      TYPE_C      2.0  Beverages    Thai  \n",
      "3      TYPE_C      2.0  Beverages  Indian  \n",
      "4      TYPE_C      2.0  Beverages  Indian  \n"
     ]
    }
   ],
   "source": [
    "#Process unseen dataset\n",
    "df1 = pd.merge(df_TstMerg1, df_MealInf, how='inner', on='meal_id')\n",
    "print(df1.head())"
   ]
  },
  {
   "cell_type": "markdown",
   "id": "9d048302",
   "metadata": {},
   "source": [
    "**Summary:** Assigns values to variables."
   ]
  },
  {
   "cell_type": "code",
   "execution_count": null,
   "id": "af107f75",
   "metadata": {},
   "outputs": [],
   "source": [
    "#Slice unseen dataset. there is no y in unseen datset\n",
    "df1 = df1.loc[:, ['id', 'week', 'center_id', 'meal_id', 'checkout_price', 'base_price',\n",
    "       'emailer_for_promotion', 'homepage_featured', 'city_code', 'op_area', 'category']] "
   ]
  },
  {
   "cell_type": "markdown",
   "id": "bebf2ca4",
   "metadata": {},
   "source": [
    "**Summary:** Calls function: `print()`."
   ]
  },
  {
   "cell_type": "code",
   "execution_count": null,
   "id": "83bb5b79",
   "metadata": {},
   "outputs": [
    {
     "name": "stdout",
     "output_type": "stream",
     "text": [
      "        id  week  center_id  meal_id  checkout_price  base_price  \\\n",
      "0  1028232   146         55     1885          158.11      159.11   \n",
      "1  1127204   146         55     1993          160.11      159.11   \n",
      "2  1212707   146         55     2539          157.14      159.14   \n",
      "3  1082698   146         55     2631          162.02      162.02   \n",
      "4  1400926   146         55     1248          163.93      163.93   \n",
      "\n",
      "   emailer_for_promotion  homepage_featured  city_code  op_area   category  \n",
      "0                      0                  0        647      2.0  Beverages  \n",
      "1                      0                  0        647      2.0  Beverages  \n",
      "2                      0                  0        647      2.0  Beverages  \n",
      "3                      0                  0        647      2.0  Beverages  \n",
      "4                      0                  0        647      2.0  Beverages  \n"
     ]
    }
   ],
   "source": [
    "#view sliced dataset\n",
    "print(df1.head())"
   ]
  },
  {
   "cell_type": "markdown",
   "id": "709e2e26",
   "metadata": {},
   "source": [
    "**Summary:** Assigns values to variables."
   ]
  },
  {
   "cell_type": "code",
   "execution_count": null,
   "id": "c0935da0",
   "metadata": {},
   "outputs": [],
   "source": [
    "#split full training dataset to x and y\n",
    "X_train = df_.drop(['num_orders'], axis=1).values\n",
    "y_train = df_['num_orders'].values"
   ]
  },
  {
   "cell_type": "markdown",
   "id": "435efe0b",
   "metadata": {},
   "source": [
    "**Summary:** Assigns values to variables. Calls function: `print()`."
   ]
  },
  {
   "cell_type": "code",
   "execution_count": null,
   "id": "0f09940f",
   "metadata": {},
   "outputs": [
    {
     "name": "stdout",
     "output_type": "stream",
     "text": [
      "        id  week  center_id  meal_id  checkout_price  base_price  \\\n",
      "0  1028232   146         55     1885          158.11      159.11   \n",
      "1  1127204   146         55     1993          160.11      159.11   \n",
      "2  1212707   146         55     2539          157.14      159.14   \n",
      "3  1082698   146         55     2631          162.02      162.02   \n",
      "4  1400926   146         55     1248          163.93      163.93   \n",
      "\n",
      "   emailer_for_promotion  homepage_featured  city_code  op_area  category  \n",
      "0                      0                  0        647      2.0         0  \n",
      "1                      0                  0        647      2.0         0  \n",
      "2                      0                  0        647      2.0         0  \n",
      "3                      0                  0        647      2.0         0  \n",
      "4                      0                  0        647      2.0         0  \n"
     ]
    }
   ],
   "source": [
    "#process unseen dataset for factorization\n",
    "df_1=df1.copy()\n",
    "cat_var = ['category']\n",
    "for i in cat_var:\n",
    "    df_1[i] = pd.factorize(df_1[i])[0]\n",
    "# df_1 = df_1.loc[:, ['id', 'week', 'center_id', 'meal_id', 'checkout_price', 'base_price',\n",
    "#        'emailer_for_promotion', 'homepage_featured', 'city_code', 'op_area', 'category']] \n",
    "print(df_1.head())\n",
    "\n",
    "# X = df_1.drop(['num_orders'], axis=1).values\n",
    "# X = df_[['center_type',\n",
    "#  'category',\n",
    "#  'cuisine']]\n",
    "X_test=df_1.to_numpy()\n",
    "\n",
    "# y = df_1['num_orders'].values\n"
   ]
  },
  {
   "cell_type": "markdown",
   "id": "414b66ea",
   "metadata": {},
   "source": [
    "**Summary:** Assigns values to variables."
   ]
  },
  {
   "cell_type": "code",
   "execution_count": null,
   "id": "25ed016d",
   "metadata": {},
   "outputs": [
    {
     "name": "stderr",
     "output_type": "stream",
     "text": [
      "/Users/basartemur/miniforge3/envs/scm-env/lib/python3.9/site-packages/xgboost/core.py:158: UserWarning:\n",
      "\n",
      "[18:51:59] WARNING: /Users/runner/work/xgboost/xgboost/src/objective/regression_obj.cu:227: reg:linear is now deprecated in favor of reg:squarederror.\n",
      "\n"
     ]
    }
   ],
   "source": [
    "xgb_model = xgb.XGBRegressor(objective=\"reg:linear\", random_state=42)\n",
    "\n",
    "xgb_model.fit(X_train, y_train)\n",
    "\n",
    "y_pred = xgb_model.predict(X_test)"
   ]
  },
  {
   "cell_type": "markdown",
   "id": "bb890cf4",
   "metadata": {},
   "source": [
    "**Summary:** Assigns values to variables."
   ]
  },
  {
   "cell_type": "code",
   "execution_count": null,
   "id": "843f28c3",
   "metadata": {},
   "outputs": [],
   "source": [
    "ypred = pd.DataFrame(y_pred)"
   ]
  },
  {
   "cell_type": "markdown",
   "id": "e44f8cd8",
   "metadata": {},
   "source": [
    "**Summary:** Assigns values to variables."
   ]
  },
  {
   "cell_type": "code",
   "execution_count": null,
   "id": "ff0cf1a2",
   "metadata": {},
   "outputs": [],
   "source": [
    "#join predictions to original unseen dataset\n",
    "predictions = pd.merge(df_test, ypred, left_index=True, right_index=True, how='inner')"
   ]
  },
  {
   "cell_type": "markdown",
   "id": "ee289731",
   "metadata": {},
   "source": [
    "**Summary:** Assigns values to variables."
   ]
  },
  {
   "cell_type": "code",
   "execution_count": null,
   "id": "54bdbf88",
   "metadata": {},
   "outputs": [],
   "source": [
    "#Create named column num_orders using data from column index 0\n",
    "predictions['num_orders'] = predictions[0]"
   ]
  },
  {
   "cell_type": "markdown",
   "id": "4c75e748",
   "metadata": {},
   "source": [
    "**Summary:** Assigns values to variables."
   ]
  },
  {
   "cell_type": "code",
   "execution_count": null,
   "id": "06b52c46",
   "metadata": {},
   "outputs": [],
   "source": [
    "#remove column index 0\n",
    "predictions = predictions.drop([0], axis=1)"
   ]
  },
  {
   "cell_type": "markdown",
   "id": "fe94c225",
   "metadata": {},
   "source": [
    "**Summary:** Assigns values to variables."
   ]
  },
  {
   "cell_type": "code",
   "execution_count": null,
   "id": "a468fa50",
   "metadata": {},
   "outputs": [],
   "source": [
    "#Create prediction series for plotting\n",
    "ts_tot_pred = predictions.groupby(['week'])['num_orders'].sum()\n",
    "ts_tot_pred = pd.DataFrame(ts_tot_pred)"
   ]
  },
  {
   "cell_type": "markdown",
   "id": "3ee2bebd",
   "metadata": {},
   "source": [
    "**Summary:** Assigns values to variables. Imports libraries."
   ]
  },
  {
   "cell_type": "code",
   "execution_count": null,
   "id": "3fa8fee8",
   "metadata": {},
   "outputs": [
    {
     "data": {
      "application/vnd.plotly.v1+json": {
       "config": {
        "linkText": "Export to plot.ly",
        "plotlyServerURL": "https://plot.ly",
        "showLink": false
       },
       "data": [
        {
         "marker": {
          "color": "Blue"
         },
         "name": "Time Series for num_orders",
         "type": "scatter",
         "x": [
          1,
          2,
          3,
          4,
          5,
          6,
          7,
          8,
          9,
          10,
          11,
          12,
          13,
          14,
          15,
          16,
          17,
          18,
          19,
          20,
          21,
          22,
          23,
          24,
          25,
          26,
          27,
          28,
          29,
          30,
          31,
          32,
          33,
          34,
          35,
          36,
          37,
          38,
          39,
          40,
          41,
          42,
          43,
          44,
          45,
          46,
          47,
          48,
          49,
          50,
          51,
          52,
          53,
          54,
          55,
          56,
          57,
          58,
          59,
          60,
          61,
          62,
          63,
          64,
          65,
          66,
          67,
          68,
          69,
          70,
          71,
          72,
          73,
          74,
          75,
          76,
          77,
          78,
          79,
          80,
          81,
          82,
          83,
          84,
          85,
          86,
          87,
          88,
          89,
          90,
          91,
          92,
          93,
          94,
          95,
          96,
          97,
          98,
          99,
          100,
          101,
          102,
          103,
          104,
          105,
          106,
          107,
          108,
          109,
          110,
          111,
          112,
          113,
          114,
          115,
          116,
          117,
          118,
          119,
          120,
          121,
          122,
          123,
          124,
          125,
          126,
          127,
          128,
          129,
          130,
          131,
          132,
          133,
          134,
          135,
          136,
          137,
          138,
          139,
          140,
          141,
          142,
          143,
          144,
          145
         ],
         "y": [
          792261,
          787084,
          695262,
          743529,
          1198675,
          947288,
          934803,
          670518,
          723243,
          811825,
          772225,
          690259,
          656102,
          636981,
          651719,
          611515,
          820285,
          932560,
          787196,
          677834,
          707013,
          834111,
          773271,
          647341,
          749583,
          805805,
          740014,
          648863,
          625414,
          915399,
          783214,
          1034202,
          730936,
          693603,
          630458,
          724865,
          877853,
          974566,
          770964,
          807159,
          791493,
          766289,
          693271,
          738583,
          981199,
          862620,
          808269,
          1303457,
          936980,
          890778,
          723036,
          1046811,
          1108236,
          757268,
          875145,
          843250,
          916721,
          834445,
          776781,
          1131459,
          860105,
          380065,
          812075,
          784508,
          844869,
          710083,
          756281,
          1009974,
          1075188,
          1004649,
          1015726,
          732551,
          702678,
          789591,
          970760,
          902928,
          833394,
          862030,
          1004611,
          698063,
          681412,
          859477,
          900091,
          768315,
          860433,
          823515,
          805140,
          745193,
          743489,
          849868,
          834397,
          908145,
          900170,
          825030,
          905841,
          765117,
          609977,
          894021,
          742048,
          1088162,
          999447,
          890983,
          713569,
          774644,
          891479,
          847485,
          783851,
          908764,
          1068318,
          889255,
          892631,
          852107,
          889696,
          813601,
          805469,
          855465,
          809625,
          777707,
          811709,
          753871,
          950500,
          944706,
          889926,
          827257,
          750541,
          810838,
          762737,
          878397,
          843661,
          920019,
          899953,
          939374,
          835583,
          975072,
          777106,
          769623,
          719740,
          667343,
          751935,
          802689,
          776240,
          739661,
          759926,
          801197,
          671926
         ]
        },
        {
         "marker": {
          "color": "Red"
         },
         "name": "Predicted",
         "type": "scatter",
         "x": [
          146,
          147,
          148,
          149,
          150,
          151,
          152,
          153,
          154,
          155
         ],
         "y": [
          703512.3,
          796445.06,
          762549.4,
          800280.8,
          964818.94,
          946036.1,
          870957.7,
          833318.25,
          797443.3,
          782632.75
         ]
        }
       ],
       "layout": {
        "plot_bgcolor": "rgba(0,0,0,0)",
        "template": {
         "data": {
          "bar": [
           {
            "error_x": {
             "color": "#2a3f5f"
            },
            "error_y": {
             "color": "#2a3f5f"
            },
            "marker": {
             "line": {
              "color": "#E5ECF6",
              "width": 0.5
             },
             "pattern": {
              "fillmode": "overlay",
              "size": 10,
              "solidity": 0.2
             }
            },
            "type": "bar"
           }
          ],
          "barpolar": [
           {
            "marker": {
             "line": {
              "color": "#E5ECF6",
              "width": 0.5
             },
             "pattern": {
              "fillmode": "overlay",
              "size": 10,
              "solidity": 0.2
             }
            },
            "type": "barpolar"
           }
          ],
          "carpet": [
           {
            "aaxis": {
             "endlinecolor": "#2a3f5f",
             "gridcolor": "white",
             "linecolor": "white",
             "minorgridcolor": "white",
             "startlinecolor": "#2a3f5f"
            },
            "baxis": {
             "endlinecolor": "#2a3f5f",
             "gridcolor": "white",
             "linecolor": "white",
             "minorgridcolor": "white",
             "startlinecolor": "#2a3f5f"
            },
            "type": "carpet"
           }
          ],
          "choropleth": [
           {
            "colorbar": {
             "outlinewidth": 0,
             "ticks": ""
            },
            "type": "choropleth"
           }
          ],
          "contour": [
           {
            "colorbar": {
             "outlinewidth": 0,
             "ticks": ""
            },
            "colorscale": [
             [
              0,
              "#0d0887"
             ],
             [
              0.1111111111111111,
              "#46039f"
             ],
             [
              0.2222222222222222,
              "#7201a8"
             ],
             [
              0.3333333333333333,
              "#9c179e"
             ],
             [
              0.4444444444444444,
              "#bd3786"
             ],
             [
              0.5555555555555556,
              "#d8576b"
             ],
             [
              0.6666666666666666,
              "#ed7953"
             ],
             [
              0.7777777777777778,
              "#fb9f3a"
             ],
             [
              0.8888888888888888,
              "#fdca26"
             ],
             [
              1,
              "#f0f921"
             ]
            ],
            "type": "contour"
           }
          ],
          "contourcarpet": [
           {
            "colorbar": {
             "outlinewidth": 0,
             "ticks": ""
            },
            "type": "contourcarpet"
           }
          ],
          "heatmap": [
           {
            "colorbar": {
             "outlinewidth": 0,
             "ticks": ""
            },
            "colorscale": [
             [
              0,
              "#0d0887"
             ],
             [
              0.1111111111111111,
              "#46039f"
             ],
             [
              0.2222222222222222,
              "#7201a8"
             ],
             [
              0.3333333333333333,
              "#9c179e"
             ],
             [
              0.4444444444444444,
              "#bd3786"
             ],
             [
              0.5555555555555556,
              "#d8576b"
             ],
             [
              0.6666666666666666,
              "#ed7953"
             ],
             [
              0.7777777777777778,
              "#fb9f3a"
             ],
             [
              0.8888888888888888,
              "#fdca26"
             ],
             [
              1,
              "#f0f921"
             ]
            ],
            "type": "heatmap"
           }
          ],
          "heatmapgl": [
           {
            "colorbar": {
             "outlinewidth": 0,
             "ticks": ""
            },
            "colorscale": [
             [
              0,
              "#0d0887"
             ],
             [
              0.1111111111111111,
              "#46039f"
             ],
             [
              0.2222222222222222,
              "#7201a8"
             ],
             [
              0.3333333333333333,
              "#9c179e"
             ],
             [
              0.4444444444444444,
              "#bd3786"
             ],
             [
              0.5555555555555556,
              "#d8576b"
             ],
             [
              0.6666666666666666,
              "#ed7953"
             ],
             [
              0.7777777777777778,
              "#fb9f3a"
             ],
             [
              0.8888888888888888,
              "#fdca26"
             ],
             [
              1,
              "#f0f921"
             ]
            ],
            "type": "heatmapgl"
           }
          ],
          "histogram": [
           {
            "marker": {
             "pattern": {
              "fillmode": "overlay",
              "size": 10,
              "solidity": 0.2
             }
            },
            "type": "histogram"
           }
          ],
          "histogram2d": [
           {
            "colorbar": {
             "outlinewidth": 0,
             "ticks": ""
            },
            "colorscale": [
             [
              0,
              "#0d0887"
             ],
             [
              0.1111111111111111,
              "#46039f"
             ],
             [
              0.2222222222222222,
              "#7201a8"
             ],
             [
              0.3333333333333333,
              "#9c179e"
             ],
             [
              0.4444444444444444,
              "#bd3786"
             ],
             [
              0.5555555555555556,
              "#d8576b"
             ],
             [
              0.6666666666666666,
              "#ed7953"
             ],
             [
              0.7777777777777778,
              "#fb9f3a"
             ],
             [
              0.8888888888888888,
              "#fdca26"
             ],
             [
              1,
              "#f0f921"
             ]
            ],
            "type": "histogram2d"
           }
          ],
          "histogram2dcontour": [
           {
            "colorbar": {
             "outlinewidth": 0,
             "ticks": ""
            },
            "colorscale": [
             [
              0,
              "#0d0887"
             ],
             [
              0.1111111111111111,
              "#46039f"
             ],
             [
              0.2222222222222222,
              "#7201a8"
             ],
             [
              0.3333333333333333,
              "#9c179e"
             ],
             [
              0.4444444444444444,
              "#bd3786"
             ],
             [
              0.5555555555555556,
              "#d8576b"
             ],
             [
              0.6666666666666666,
              "#ed7953"
             ],
             [
              0.7777777777777778,
              "#fb9f3a"
             ],
             [
              0.8888888888888888,
              "#fdca26"
             ],
             [
              1,
              "#f0f921"
             ]
            ],
            "type": "histogram2dcontour"
           }
          ],
          "mesh3d": [
           {
            "colorbar": {
             "outlinewidth": 0,
             "ticks": ""
            },
            "type": "mesh3d"
           }
          ],
          "parcoords": [
           {
            "line": {
             "colorbar": {
              "outlinewidth": 0,
              "ticks": ""
             }
            },
            "type": "parcoords"
           }
          ],
          "pie": [
           {
            "automargin": true,
            "type": "pie"
           }
          ],
          "scatter": [
           {
            "fillpattern": {
             "fillmode": "overlay",
             "size": 10,
             "solidity": 0.2
            },
            "type": "scatter"
           }
          ],
          "scatter3d": [
           {
            "line": {
             "colorbar": {
              "outlinewidth": 0,
              "ticks": ""
             }
            },
            "marker": {
             "colorbar": {
              "outlinewidth": 0,
              "ticks": ""
             }
            },
            "type": "scatter3d"
           }
          ],
          "scattercarpet": [
           {
            "marker": {
             "colorbar": {
              "outlinewidth": 0,
              "ticks": ""
             }
            },
            "type": "scattercarpet"
           }
          ],
          "scattergeo": [
           {
            "marker": {
             "colorbar": {
              "outlinewidth": 0,
              "ticks": ""
             }
            },
            "type": "scattergeo"
           }
          ],
          "scattergl": [
           {
            "marker": {
             "colorbar": {
              "outlinewidth": 0,
              "ticks": ""
             }
            },
            "type": "scattergl"
           }
          ],
          "scattermapbox": [
           {
            "marker": {
             "colorbar": {
              "outlinewidth": 0,
              "ticks": ""
             }
            },
            "type": "scattermapbox"
           }
          ],
          "scatterpolar": [
           {
            "marker": {
             "colorbar": {
              "outlinewidth": 0,
              "ticks": ""
             }
            },
            "type": "scatterpolar"
           }
          ],
          "scatterpolargl": [
           {
            "marker": {
             "colorbar": {
              "outlinewidth": 0,
              "ticks": ""
             }
            },
            "type": "scatterpolargl"
           }
          ],
          "scatterternary": [
           {
            "marker": {
             "colorbar": {
              "outlinewidth": 0,
              "ticks": ""
             }
            },
            "type": "scatterternary"
           }
          ],
          "surface": [
           {
            "colorbar": {
             "outlinewidth": 0,
             "ticks": ""
            },
            "colorscale": [
             [
              0,
              "#0d0887"
             ],
             [
              0.1111111111111111,
              "#46039f"
             ],
             [
              0.2222222222222222,
              "#7201a8"
             ],
             [
              0.3333333333333333,
              "#9c179e"
             ],
             [
              0.4444444444444444,
              "#bd3786"
             ],
             [
              0.5555555555555556,
              "#d8576b"
             ],
             [
              0.6666666666666666,
              "#ed7953"
             ],
             [
              0.7777777777777778,
              "#fb9f3a"
             ],
             [
              0.8888888888888888,
              "#fdca26"
             ],
             [
              1,
              "#f0f921"
             ]
            ],
            "type": "surface"
           }
          ],
          "table": [
           {
            "cells": {
             "fill": {
              "color": "#EBF0F8"
             },
             "line": {
              "color": "white"
             }
            },
            "header": {
             "fill": {
              "color": "#C8D4E3"
             },
             "line": {
              "color": "white"
             }
            },
            "type": "table"
           }
          ]
         },
         "layout": {
          "annotationdefaults": {
           "arrowcolor": "#2a3f5f",
           "arrowhead": 0,
           "arrowwidth": 1
          },
          "autotypenumbers": "strict",
          "coloraxis": {
           "colorbar": {
            "outlinewidth": 0,
            "ticks": ""
           }
          },
          "colorscale": {
           "diverging": [
            [
             0,
             "#8e0152"
            ],
            [
             0.1,
             "#c51b7d"
            ],
            [
             0.2,
             "#de77ae"
            ],
            [
             0.3,
             "#f1b6da"
            ],
            [
             0.4,
             "#fde0ef"
            ],
            [
             0.5,
             "#f7f7f7"
            ],
            [
             0.6,
             "#e6f5d0"
            ],
            [
             0.7,
             "#b8e186"
            ],
            [
             0.8,
             "#7fbc41"
            ],
            [
             0.9,
             "#4d9221"
            ],
            [
             1,
             "#276419"
            ]
           ],
           "sequential": [
            [
             0,
             "#0d0887"
            ],
            [
             0.1111111111111111,
             "#46039f"
            ],
            [
             0.2222222222222222,
             "#7201a8"
            ],
            [
             0.3333333333333333,
             "#9c179e"
            ],
            [
             0.4444444444444444,
             "#bd3786"
            ],
            [
             0.5555555555555556,
             "#d8576b"
            ],
            [
             0.6666666666666666,
             "#ed7953"
            ],
            [
             0.7777777777777778,
             "#fb9f3a"
            ],
            [
             0.8888888888888888,
             "#fdca26"
            ],
            [
             1,
             "#f0f921"
            ]
           ],
           "sequentialminus": [
            [
             0,
             "#0d0887"
            ],
            [
             0.1111111111111111,
             "#46039f"
            ],
            [
             0.2222222222222222,
             "#7201a8"
            ],
            [
             0.3333333333333333,
             "#9c179e"
            ],
            [
             0.4444444444444444,
             "#bd3786"
            ],
            [
             0.5555555555555556,
             "#d8576b"
            ],
            [
             0.6666666666666666,
             "#ed7953"
            ],
            [
             0.7777777777777778,
             "#fb9f3a"
            ],
            [
             0.8888888888888888,
             "#fdca26"
            ],
            [
             1,
             "#f0f921"
            ]
           ]
          },
          "colorway": [
           "#636efa",
           "#EF553B",
           "#00cc96",
           "#ab63fa",
           "#FFA15A",
           "#19d3f3",
           "#FF6692",
           "#B6E880",
           "#FF97FF",
           "#FECB52"
          ],
          "font": {
           "color": "#2a3f5f"
          },
          "geo": {
           "bgcolor": "white",
           "lakecolor": "white",
           "landcolor": "#E5ECF6",
           "showlakes": true,
           "showland": true,
           "subunitcolor": "white"
          },
          "hoverlabel": {
           "align": "left"
          },
          "hovermode": "closest",
          "mapbox": {
           "style": "light"
          },
          "paper_bgcolor": "white",
          "plot_bgcolor": "#E5ECF6",
          "polar": {
           "angularaxis": {
            "gridcolor": "white",
            "linecolor": "white",
            "ticks": ""
           },
           "bgcolor": "#E5ECF6",
           "radialaxis": {
            "gridcolor": "white",
            "linecolor": "white",
            "ticks": ""
           }
          },
          "scene": {
           "xaxis": {
            "backgroundcolor": "#E5ECF6",
            "gridcolor": "white",
            "gridwidth": 2,
            "linecolor": "white",
            "showbackground": true,
            "ticks": "",
            "zerolinecolor": "white"
           },
           "yaxis": {
            "backgroundcolor": "#E5ECF6",
            "gridcolor": "white",
            "gridwidth": 2,
            "linecolor": "white",
            "showbackground": true,
            "ticks": "",
            "zerolinecolor": "white"
           },
           "zaxis": {
            "backgroundcolor": "#E5ECF6",
            "gridcolor": "white",
            "gridwidth": 2,
            "linecolor": "white",
            "showbackground": true,
            "ticks": "",
            "zerolinecolor": "white"
           }
          },
          "shapedefaults": {
           "line": {
            "color": "#2a3f5f"
           }
          },
          "ternary": {
           "aaxis": {
            "gridcolor": "white",
            "linecolor": "white",
            "ticks": ""
           },
           "baxis": {
            "gridcolor": "white",
            "linecolor": "white",
            "ticks": ""
           },
           "bgcolor": "#E5ECF6",
           "caxis": {
            "gridcolor": "white",
            "linecolor": "white",
            "ticks": ""
           }
          },
          "title": {
           "x": 0.05
          },
          "xaxis": {
           "automargin": true,
           "gridcolor": "white",
           "linecolor": "white",
           "ticks": "",
           "title": {
            "standoff": 15
           },
           "zerolinecolor": "white",
           "zerolinewidth": 2
          },
          "yaxis": {
           "automargin": true,
           "gridcolor": "white",
           "linecolor": "white",
           "ticks": "",
           "title": {
            "standoff": 15
           },
           "zerolinecolor": "white",
           "zerolinewidth": 2
          }
         }
        },
        "title": {
         "text": "Total orders per week"
        },
        "xaxis": {
         "title": {
          "text": "Week"
         }
        },
        "yaxis": {
         "title": {
          "text": "Total orders"
         }
        }
       }
      }
     },
     "metadata": {},
     "output_type": "display_data"
    }
   ],
   "source": [
    "import plotly.graph_objs as go\n",
    "import plotly.offline as pyoff\n",
    "plot_data = [\n",
    "    go.Scatter(\n",
    "        x=ts_tot_orders.index,\n",
    "        y=ts_tot_orders['num_orders'],\n",
    "        name='Time Series for num_orders',\n",
    "        marker = dict(color = 'Blue')\n",
    "        #x_axis=\"OTI\",\n",
    "        #y_axis=\"time\",\n",
    "    ),\n",
    "    go.Scatter(\n",
    "        x=ts_tot_pred.index,\n",
    "        y=ts_tot_pred['num_orders'],\n",
    "        name='Predicted',\n",
    "        marker = dict(color = 'Red')\n",
    "        #x_axis=\"OTI\",\n",
    "        #y_axis=\"time\",\n",
    "    )\n",
    "    \n",
    "]\n",
    "plot_layout = go.Layout(\n",
    "        title='Total orders per week',\n",
    "        yaxis_title='Total orders',\n",
    "        xaxis_title='Week',\n",
    "        plot_bgcolor='rgba(0,0,0,0)'\n",
    "    )\n",
    "fig = go.Figure(data=plot_data, layout=plot_layout)\n",
    "pyoff.iplot(fig)"
   ]
  },
  {
   "cell_type": "code",
   "execution_count": 3,
   "id": "cb67c43c",
   "metadata": {},
   "outputs": [
    {
     "data": {
      "image/png": "[encoded data removed]",
      "text/plain": [
       "<IPython.core.display.Image object>"
      ]
     },
     "metadata": {},
     "output_type": "display_data"
    }
   ],
   "source": [
    "from IPython.display import Image, display\n",
    "display(Image(\"Images/ts3.png\"))"
   ]
  },
  {
   "cell_type": "markdown",
   "id": "8889002b",
   "metadata": {},
   "source": [
    "**Summary:** Imports libraries."
   ]
  },
  {
   "cell_type": "code",
   "execution_count": null,
   "id": "7f165e09",
   "metadata": {},
   "outputs": [],
   "source": [
    "import pandas as pd\n",
    "import matplotlib.pyplot as plt\n",
    "from prophet import Prophet\n",
    "from sklearn.metrics import mean_squared_error\n",
    "from math import sqrt\n",
    "import xgboost as xgb\n",
    "import os"
   ]
  },
  {
   "cell_type": "markdown",
   "id": "5f16bffa",
   "metadata": {},
   "source": [
    "**Summary:** Calls function: `print()`."
   ]
  },
  {
   "cell_type": "code",
   "execution_count": null,
   "id": "051b69ee",
   "metadata": {},
   "outputs": [
    {
     "name": "stdout",
     "output_type": "stream",
     "text": [
      "/Users/basartemur/Library/CloudStorage/Dropbox/02 MMDS/00 Course Work/25 FSS Ind App o AI/Projects/SCM/Notebooks\n"
     ]
    }
   ],
   "source": [
    "print(os.getcwd())"
   ]
  },
  {
   "cell_type": "markdown",
   "id": "ec757e0e",
   "metadata": {},
   "source": [
    "**Summary:** Assigns values to variables."
   ]
  },
  {
   "cell_type": "code",
   "execution_count": null,
   "id": "9568b30a",
   "metadata": {},
   "outputs": [],
   "source": [
    "# Load and prepare the dataset\n",
    "df = pd.read_csv(\"../Data/train_proc.csv\")\n",
    "df['ds'] = pd.to_datetime(df['week'])\n",
    "df['y'] = df['num_orders']\n",
    "df.drop(['week', 'num_orders'], axis=1, inplace=True)"
   ]
  },
  {
   "cell_type": "markdown",
   "id": "6a0eb557",
   "metadata": {},
   "source": [
    "**Summary:** Assigns values to variables."
   ]
  },
  {
   "cell_type": "code",
   "execution_count": null,
   "id": "b7bafe60",
   "metadata": {},
   "outputs": [],
   "source": [
    "# Sort by group and date\n",
    "df = df.sort_values(['center_id', 'meal_id', 'ds'])\n",
    "\n",
    "# Add promotion_last_week feature\n",
    "df['promotion'] = df['emailer_for_promotion'] | df['homepage_featured']\n",
    "# Apply lag within group\n",
    "df['promotion_last_week'] = df.groupby(['center_id', 'meal_id'])['promotion'].shift(1).fillna(0).astype(int)\n",
    "# df['promotion_last_week'] = df['promotion'].shift(1).fillna(0).astype(int)\n",
    "\n"
   ]
  },
  {
   "cell_type": "markdown",
   "id": "6757964c",
   "metadata": {},
   "source": [
    "**Summary:** Assigns values to variables."
   ]
  },
  {
   "cell_type": "code",
   "execution_count": null,
   "id": "c5dda4b3",
   "metadata": {},
   "outputs": [],
   "source": [
    "# Time-based split\n",
    "df = df.sort_values('ds').reset_index(drop=True)\n",
    "split_index = int(len(df) * 0.8)\n",
    "df_train = df.iloc[:split_index].copy()\n",
    "df_test = df.iloc[split_index:].copy()"
   ]
  },
  {
   "cell_type": "markdown",
   "id": "b7ef2e84",
   "metadata": {},
   "source": [
    "**Summary:** Assigns values to variables."
   ]
  },
  {
   "cell_type": "code",
   "execution_count": null,
   "id": "92ae3686",
   "metadata": {},
   "outputs": [],
   "source": [
    "# Define categorical and continuous features\n",
    "categorical_vars = ['center_id', 'meal_id', 'emailer_for_promotion',\n",
    "                    'homepage_featured', 'city_code', 'op_area', 'category', 'promotion_last_week']\n",
    "continuous_vars = ['checkout_price', 'base_price']"
   ]
  },
  {
   "cell_type": "markdown",
   "id": "6d97774c",
   "metadata": {},
   "source": [
    "**Summary:** Assigns values to variables."
   ]
  },
  {
   "cell_type": "code",
   "execution_count": null,
   "id": "7204f202",
   "metadata": {},
   "outputs": [],
   "source": [
    "# One-hot encode categorical variables\n",
    "df_combined = pd.concat([df_train, df_test])\n",
    "df_combined = df_combined.loc[:, ['ds', 'center_id', 'meal_id', 'checkout_price', 'base_price',\n",
    "       'emailer_for_promotion', 'homepage_featured', 'city_code', 'op_area', 'category', 'promotion_last_week', 'y']]\n",
    "df_encoded = pd.get_dummies(df_combined, columns=categorical_vars)"
   ]
  },
  {
   "cell_type": "markdown",
   "id": "1c3da4f3",
   "metadata": {},
   "source": [
    "**Summary:** Assigns values to variables."
   ]
  },
  {
   "cell_type": "code",
   "execution_count": null,
   "id": "dad3ca2f",
   "metadata": {},
   "outputs": [],
   "source": [
    "df_train_encoded = df_encoded.iloc[:len(df_train)].copy()\n",
    "df_test_encoded = df_encoded.iloc[len(df_train):].copy()"
   ]
  },
  {
   "cell_type": "markdown",
   "id": "f65d4534",
   "metadata": {},
   "source": [
    "**Summary:** Assigns values to variables. Calls function: `print()`."
   ]
  },
  {
   "cell_type": "code",
   "execution_count": null,
   "id": "d4bc6512",
   "metadata": {},
   "outputs": [
    {
     "name": "stdout",
     "output_type": "stream",
     "text": [
      "['checkout_price', 'base_price', 'center_id_10', 'center_id_11', 'center_id_13', 'center_id_14', 'center_id_17', 'center_id_20', 'center_id_23', 'center_id_24', 'center_id_26', 'center_id_27', 'center_id_29', 'center_id_30', 'center_id_32', 'center_id_34', 'center_id_36', 'center_id_39', 'center_id_41', 'center_id_42', 'center_id_43', 'center_id_50', 'center_id_51', 'center_id_52', 'center_id_53', 'center_id_55', 'center_id_57', 'center_id_58', 'center_id_59', 'center_id_61', 'center_id_64', 'center_id_65', 'center_id_66', 'center_id_67', 'center_id_68', 'center_id_72', 'center_id_73', 'center_id_74', 'center_id_75', 'center_id_76', 'center_id_77', 'center_id_80', 'center_id_81', 'center_id_83', 'center_id_86', 'center_id_88', 'center_id_89', 'center_id_91', 'center_id_92', 'center_id_93', 'center_id_94', 'center_id_97', 'center_id_99', 'center_id_101', 'center_id_102', 'center_id_104', 'center_id_106', 'center_id_108', 'center_id_109', 'center_id_110', 'center_id_113', 'center_id_124', 'center_id_126', 'center_id_129', 'center_id_132', 'center_id_137', 'center_id_139', 'center_id_143', 'center_id_145', 'center_id_146', 'center_id_149', 'center_id_152', 'center_id_153', 'center_id_157', 'center_id_161', 'center_id_162', 'center_id_174', 'center_id_177', 'center_id_186', 'meal_id_1062', 'meal_id_1109', 'meal_id_1198', 'meal_id_1207', 'meal_id_1216', 'meal_id_1230', 'meal_id_1247', 'meal_id_1248', 'meal_id_1311', 'meal_id_1438', 'meal_id_1445', 'meal_id_1525', 'meal_id_1543', 'meal_id_1558', 'meal_id_1571', 'meal_id_1727', 'meal_id_1754', 'meal_id_1770', 'meal_id_1778', 'meal_id_1803', 'meal_id_1847', 'meal_id_1878', 'meal_id_1885', 'meal_id_1902', 'meal_id_1962', 'meal_id_1971', 'meal_id_1993', 'meal_id_2104', 'meal_id_2126', 'meal_id_2139', 'meal_id_2290', 'meal_id_2304', 'meal_id_2306', 'meal_id_2322', 'meal_id_2444', 'meal_id_2490', 'meal_id_2492', 'meal_id_2494', 'meal_id_2539', 'meal_id_2569', 'meal_id_2577', 'meal_id_2581', 'meal_id_2631', 'meal_id_2640', 'meal_id_2664', 'meal_id_2704', 'meal_id_2707', 'meal_id_2760', 'meal_id_2826', 'meal_id_2867', 'meal_id_2956', 'emailer_for_promotion_0', 'emailer_for_promotion_1', 'homepage_featured_0', 'homepage_featured_1', 'city_code_456', 'city_code_461', 'city_code_473', 'city_code_478', 'city_code_485', 'city_code_515', 'city_code_517', 'city_code_522', 'city_code_526', 'city_code_541', 'city_code_553', 'city_code_556', 'city_code_561', 'city_code_562', 'city_code_576', 'city_code_577', 'city_code_579', 'city_code_590', 'city_code_593', 'city_code_596', 'city_code_599', 'city_code_602', 'city_code_604', 'city_code_609', 'city_code_614', 'city_code_615', 'city_code_620', 'city_code_628', 'city_code_632', 'city_code_638', 'city_code_647', 'city_code_648', 'city_code_649', 'city_code_651', 'city_code_654', 'city_code_658', 'city_code_659', 'city_code_675', 'city_code_676', 'city_code_679', 'city_code_680', 'city_code_683', 'city_code_685', 'city_code_693', 'city_code_695', 'city_code_698', 'city_code_699', 'city_code_700', 'city_code_702', 'city_code_703', 'city_code_713', 'op_area_0.9', 'op_area_1.9', 'op_area_2.0', 'op_area_2.4', 'op_area_2.7', 'op_area_2.8', 'op_area_2.9', 'op_area_3.0', 'op_area_3.2', 'op_area_3.4', 'op_area_3.5', 'op_area_3.6', 'op_area_3.7', 'op_area_3.8', 'op_area_3.9', 'op_area_4.0', 'op_area_4.1', 'op_area_4.2', 'op_area_4.4', 'op_area_4.5', 'op_area_4.6', 'op_area_4.7', 'op_area_4.8', 'op_area_5.0', 'op_area_5.1', 'op_area_5.3', 'op_area_5.6', 'op_area_6.3', 'op_area_6.7', 'op_area_7.0', 'category_0', 'category_1', 'category_2', 'category_3', 'category_4', 'category_5', 'category_6', 'category_7', 'category_8', 'category_9', 'category_10', 'category_11', 'category_12', 'category_13', 'promotion_last_week_0', 'promotion_last_week_1']\n"
     ]
    }
   ],
   "source": [
    "# Prophet model\n",
    "model = Prophet()\n",
    "all_regressors_prophet = [col for col in df_train_encoded.columns if col not in ['ds', 'y']]\n",
    "for reg in all_regressors_prophet:\n",
    "    model.add_regressor(reg)\n",
    "print(all_regressors_prophet)\n"
   ]
  },
  {
   "cell_type": "markdown",
   "id": "18835956",
   "metadata": {},
   "source": [
    "**Summary:** Executes general Python code."
   ]
  },
  {
   "cell_type": "code",
   "execution_count": null,
   "id": "05be96bc",
   "metadata": {},
   "outputs": [
    {
     "name": "stderr",
     "output_type": "stream",
     "text": [
      "23:05:16 - cmdstanpy - INFO - Chain [1] start processing\n",
      "23:08:34 - cmdstanpy - INFO - Chain [1] done processing\n"
     ]
    },
    {
     "data": {
      "text/plain": [
       "<prophet.forecaster.Prophet at 0x1637600a0>"
      ]
     },
     "metadata": {},
     "output_type": "display_data"
    }
   ],
   "source": [
    "model.fit(df_train_encoded[['ds', 'y'] + all_regressors_prophet])\n"
   ]
  },
  {
   "cell_type": "markdown",
   "id": "3fd7bfa8",
   "metadata": {},
   "source": [
    "**Summary:** Assigns values to variables."
   ]
  },
  {
   "cell_type": "code",
   "execution_count": null,
   "id": "66710c91",
   "metadata": {},
   "outputs": [
    {
     "name": "stderr",
     "output_type": "stream",
     "text": [
      "/Users/basartemur/miniforge3/envs/scm-env/lib/python3.9/site-packages/prophet/forecaster.py:1272: PerformanceWarning: DataFrame is highly fragmented.  This is usually the result of calling `frame.insert` many times, which has poor performance.  Consider joining all columns at once using pd.concat(axis=1) instead. To get a de-fragmented frame, use `newframe = frame.copy()`\n",
      "  df['trend'] = self.predict_trend(df)\n"
     ]
    }
   ],
   "source": [
    "# Forecast on train set and compute residuals\n",
    "prophet_train_forecast = model.predict(df_train_encoded[['ds'] + all_regressors_prophet])\n",
    "df_train_encoded['residual'] = df_train_encoded['y'] - prophet_train_forecast['yhat']"
   ]
  },
  {
   "cell_type": "markdown",
   "id": "1d238423",
   "metadata": {},
   "source": [
    "**Summary:** Assigns values to variables."
   ]
  },
  {
   "cell_type": "code",
   "execution_count": null,
   "id": "3e13be57",
   "metadata": {},
   "outputs": [],
   "source": [
    "# Train XGBoost on residuals\n",
    "all_regressors_xgb=all_regressors_prophet\n",
    "X_train_xgb = df_train_encoded[all_regressors_xgb]\n",
    "y_train_xgb = df_train_encoded['residual']"
   ]
  },
  {
   "cell_type": "markdown",
   "id": "4ee6f06f",
   "metadata": {},
   "source": [
    "**Summary:** Assigns values to variables."
   ]
  },
  {
   "cell_type": "code",
   "execution_count": null,
   "id": "a11d333b",
   "metadata": {},
   "outputs": [
    {
     "data": {
      "text/html": [
       "<style>#sk-container-id-1 {color: black;background-color: white;}#sk-container-id-1 pre{padding: 0;}#sk-container-id-1 div.sk-toggleable {background-color: white;}#sk-container-id-1 label.sk-toggleable__label {cursor: pointer;display: block;width: 100%;margin-bottom: 0;padding: 0.3em;box-sizing: border-box;text-align: center;}#sk-container-id-1 label.sk-toggleable__label-arrow:before {content: \"▸\";float: left;margin-right: 0.25em;color: #696969;}#sk-container-id-1 label.sk-toggleable__label-arrow:hover:before {color: black;}#sk-container-id-1 div.sk-estimator:hover label.sk-toggleable__label-arrow:before {color: black;}#sk-container-id-1 div.sk-toggleable__content {max-height: 0;max-width: 0;overflow: hidden;text-align: left;background-color: #f0f8ff;}#sk-container-id-1 div.sk-toggleable__content pre {margin: 0.2em;color: black;border-radius: 0.25em;background-color: #f0f8ff;}#sk-container-id-1 input.sk-toggleable__control:checked~div.sk-toggleable__content {max-height: 200px;max-width: 100%;overflow: auto;}#sk-container-id-1 input.sk-toggleable__control:checked~label.sk-toggleable__label-arrow:before {content: \"▾\";}#sk-container-id-1 div.sk-estimator input.sk-toggleable__control:checked~label.sk-toggleable__label {background-color: #d4ebff;}#sk-container-id-1 div.sk-label input.sk-toggleable__control:checked~label.sk-toggleable__label {background-color: #d4ebff;}#sk-container-id-1 input.sk-hidden--visually {border: 0;clip: rect(1px 1px 1px 1px);clip: rect(1px, 1px, 1px, 1px);height: 1px;margin: -1px;overflow: hidden;padding: 0;position: absolute;width: 1px;}#sk-container-id-1 div.sk-estimator {font-family: monospace;background-color: #f0f8ff;border: 1px dotted black;border-radius: 0.25em;box-sizing: border-box;margin-bottom: 0.5em;}#sk-container-id-1 div.sk-estimator:hover {background-color: #d4ebff;}#sk-container-id-1 div.sk-parallel-item::after {content: \"\";width: 100%;border-bottom: 1px solid gray;flex-grow: 1;}#sk-container-id-1 div.sk-label:hover label.sk-toggleable__label {background-color: #d4ebff;}#sk-container-id-1 div.sk-serial::before {content: \"\";position: absolute;border-left: 1px solid gray;box-sizing: border-box;top: 0;bottom: 0;left: 50%;z-index: 0;}#sk-container-id-1 div.sk-serial {display: flex;flex-direction: column;align-items: center;background-color: white;padding-right: 0.2em;padding-left: 0.2em;position: relative;}#sk-container-id-1 div.sk-item {position: relative;z-index: 1;}#sk-container-id-1 div.sk-parallel {display: flex;align-items: stretch;justify-content: center;background-color: white;position: relative;}#sk-container-id-1 div.sk-item::before, #sk-container-id-1 div.sk-parallel-item::before {content: \"\";position: absolute;border-left: 1px solid gray;box-sizing: border-box;top: 0;bottom: 0;left: 50%;z-index: -1;}#sk-container-id-1 div.sk-parallel-item {display: flex;flex-direction: column;z-index: 1;position: relative;background-color: white;}#sk-container-id-1 div.sk-parallel-item:first-child::after {align-self: flex-end;width: 50%;}#sk-container-id-1 div.sk-parallel-item:last-child::after {align-self: flex-start;width: 50%;}#sk-container-id-1 div.sk-parallel-item:only-child::after {width: 0;}#sk-container-id-1 div.sk-dashed-wrapped {border: 1px dashed gray;margin: 0 0.4em 0.5em 0.4em;box-sizing: border-box;padding-bottom: 0.4em;background-color: white;}#sk-container-id-1 div.sk-label label {font-family: monospace;font-weight: bold;display: inline-block;line-height: 1.2em;}#sk-container-id-1 div.sk-label-container {text-align: center;}#sk-container-id-1 div.sk-container {/* jupyter's `normalize.less` sets `[hidden] { display: none; }` but bootstrap.min.css set `[hidden] { display: none !important; }` so we also need the `!important` here to be able to override the default hidden behavior on the sphinx rendered scikit-learn.org. See: https://github.com/scikit-learn/scikit-learn/issues/21755 */display: inline-block !important;position: relative;}#sk-container-id-1 div.sk-text-repr-fallback {display: none;}</style><div id=\"sk-container-id-1\" class=\"sk-top-container\"><div class=\"sk-text-repr-fallback\"><pre>XGBRegressor(base_score=None, booster=None, callbacks=None,\n",
       "             colsample_bylevel=None, colsample_bynode=None,\n",
       "             colsample_bytree=None, device=None, early_stopping_rounds=None,\n",
       "             enable_categorical=False, eval_metric=None, feature_types=None,\n",
       "             gamma=None, grow_policy=None, importance_type=None,\n",
       "             interaction_constraints=None, learning_rate=0.1, max_bin=None,\n",
       "             max_cat_threshold=None, max_cat_to_onehot=None,\n",
       "             max_delta_step=None, max_depth=5, max_leaves=None,\n",
       "             min_child_weight=None, missing=nan, monotone_constraints=None,\n",
       "             multi_strategy=None, n_estimators=100, n_jobs=None,\n",
       "             num_parallel_tree=None, random_state=None, ...)</pre><b>In a Jupyter environment, please rerun this cell to show the HTML representation or trust the notebook. <br />On GitHub, the HTML representation is unable to render, please try loading this page with nbviewer.org.</b></div><div class=\"sk-container\" hidden><div class=\"sk-item\"><div class=\"sk-estimator sk-toggleable\"><input class=\"sk-toggleable__control sk-hidden--visually\" id=\"sk-estimator-id-1\" type=\"checkbox\" checked><label for=\"sk-estimator-id-1\" class=\"sk-toggleable__label sk-toggleable__label-arrow\">XGBRegressor</label><div class=\"sk-toggleable__content\"><pre>XGBRegressor(base_score=None, booster=None, callbacks=None,\n",
       "             colsample_bylevel=None, colsample_bynode=None,\n",
       "             colsample_bytree=None, device=None, early_stopping_rounds=None,\n",
       "             enable_categorical=False, eval_metric=None, feature_types=None,\n",
       "             gamma=None, grow_policy=None, importance_type=None,\n",
       "             interaction_constraints=None, learning_rate=0.1, max_bin=None,\n",
       "             max_cat_threshold=None, max_cat_to_onehot=None,\n",
       "             max_delta_step=None, max_depth=5, max_leaves=None,\n",
       "             min_child_weight=None, missing=nan, monotone_constraints=None,\n",
       "             multi_strategy=None, n_estimators=100, n_jobs=None,\n",
       "             num_parallel_tree=None, random_state=None, ...)</pre></div></div></div></div></div>"
      ],
      "text/plain": [
       "XGBRegressor(base_score=None, booster=None, callbacks=None,\n",
       "             colsample_bylevel=None, colsample_bynode=None,\n",
       "             colsample_bytree=None, device=None, early_stopping_rounds=None,\n",
       "             enable_categorical=False, eval_metric=None, feature_types=None,\n",
       "             gamma=None, grow_policy=None, importance_type=None,\n",
       "             interaction_constraints=None, learning_rate=0.1, max_bin=None,\n",
       "             max_cat_threshold=None, max_cat_to_onehot=None,\n",
       "             max_delta_step=None, max_depth=5, max_leaves=None,\n",
       "             min_child_weight=None, missing=nan, monotone_constraints=None,\n",
       "             multi_strategy=None, n_estimators=100, n_jobs=None,\n",
       "             num_parallel_tree=None, random_state=None, ...)"
      ]
     },
     "metadata": {},
     "output_type": "display_data"
    }
   ],
   "source": [
    "xgb_model = xgb.XGBRegressor(n_estimators=100, max_depth=5, learning_rate=0.1)\n",
    "xgb_model.fit(X_train_xgb, y_train_xgb)"
   ]
  },
  {
   "cell_type": "markdown",
   "id": "d15fa39a",
   "metadata": {},
   "source": [
    "**Summary:** Calls function: `print()`."
   ]
  },
  {
   "cell_type": "code",
   "execution_count": null,
   "id": "8d8b8410",
   "metadata": {},
   "outputs": [
    {
     "name": "stdout",
     "output_type": "stream",
     "text": [
      "['checkout_price', 'base_price', 'center_id_10', 'center_id_11', 'center_id_13', 'center_id_14', 'center_id_17', 'center_id_20', 'center_id_23', 'center_id_24', 'center_id_26', 'center_id_27', 'center_id_29', 'center_id_30', 'center_id_32', 'center_id_34', 'center_id_36', 'center_id_39', 'center_id_41', 'center_id_42', 'center_id_43', 'center_id_50', 'center_id_51', 'center_id_52', 'center_id_53', 'center_id_55', 'center_id_57', 'center_id_58', 'center_id_59', 'center_id_61', 'center_id_64', 'center_id_65', 'center_id_66', 'center_id_67', 'center_id_68', 'center_id_72', 'center_id_73', 'center_id_74', 'center_id_75', 'center_id_76', 'center_id_77', 'center_id_80', 'center_id_81', 'center_id_83', 'center_id_86', 'center_id_88', 'center_id_89', 'center_id_91', 'center_id_92', 'center_id_93', 'center_id_94', 'center_id_97', 'center_id_99', 'center_id_101', 'center_id_102', 'center_id_104', 'center_id_106', 'center_id_108', 'center_id_109', 'center_id_110', 'center_id_113', 'center_id_124', 'center_id_126', 'center_id_129', 'center_id_132', 'center_id_137', 'center_id_139', 'center_id_143', 'center_id_145', 'center_id_146', 'center_id_149', 'center_id_152', 'center_id_153', 'center_id_157', 'center_id_161', 'center_id_162', 'center_id_174', 'center_id_177', 'center_id_186', 'meal_id_1062', 'meal_id_1109', 'meal_id_1198', 'meal_id_1207', 'meal_id_1216', 'meal_id_1230', 'meal_id_1247', 'meal_id_1248', 'meal_id_1311', 'meal_id_1438', 'meal_id_1445', 'meal_id_1525', 'meal_id_1543', 'meal_id_1558', 'meal_id_1571', 'meal_id_1727', 'meal_id_1754', 'meal_id_1770', 'meal_id_1778', 'meal_id_1803', 'meal_id_1847', 'meal_id_1878', 'meal_id_1885', 'meal_id_1902', 'meal_id_1962', 'meal_id_1971', 'meal_id_1993', 'meal_id_2104', 'meal_id_2126', 'meal_id_2139', 'meal_id_2290', 'meal_id_2304', 'meal_id_2306', 'meal_id_2322', 'meal_id_2444', 'meal_id_2490', 'meal_id_2492', 'meal_id_2494', 'meal_id_2539', 'meal_id_2569', 'meal_id_2577', 'meal_id_2581', 'meal_id_2631', 'meal_id_2640', 'meal_id_2664', 'meal_id_2704', 'meal_id_2707', 'meal_id_2760', 'meal_id_2826', 'meal_id_2867', 'meal_id_2956', 'emailer_for_promotion_0', 'emailer_for_promotion_1', 'homepage_featured_0', 'homepage_featured_1', 'city_code_456', 'city_code_461', 'city_code_473', 'city_code_478', 'city_code_485', 'city_code_515', 'city_code_517', 'city_code_522', 'city_code_526', 'city_code_541', 'city_code_553', 'city_code_556', 'city_code_561', 'city_code_562', 'city_code_576', 'city_code_577', 'city_code_579', 'city_code_590', 'city_code_593', 'city_code_596', 'city_code_599', 'city_code_602', 'city_code_604', 'city_code_609', 'city_code_614', 'city_code_615', 'city_code_620', 'city_code_628', 'city_code_632', 'city_code_638', 'city_code_647', 'city_code_648', 'city_code_649', 'city_code_651', 'city_code_654', 'city_code_658', 'city_code_659', 'city_code_675', 'city_code_676', 'city_code_679', 'city_code_680', 'city_code_683', 'city_code_685', 'city_code_693', 'city_code_695', 'city_code_698', 'city_code_699', 'city_code_700', 'city_code_702', 'city_code_703', 'city_code_713', 'op_area_0.9', 'op_area_1.9', 'op_area_2.0', 'op_area_2.4', 'op_area_2.7', 'op_area_2.8', 'op_area_2.9', 'op_area_3.0', 'op_area_3.2', 'op_area_3.4', 'op_area_3.5', 'op_area_3.6', 'op_area_3.7', 'op_area_3.8', 'op_area_3.9', 'op_area_4.0', 'op_area_4.1', 'op_area_4.2', 'op_area_4.4', 'op_area_4.5', 'op_area_4.6', 'op_area_4.7', 'op_area_4.8', 'op_area_5.0', 'op_area_5.1', 'op_area_5.3', 'op_area_5.6', 'op_area_6.3', 'op_area_6.7', 'op_area_7.0', 'category_0', 'category_1', 'category_2', 'category_3', 'category_4', 'category_5', 'category_6', 'category_7', 'category_8', 'category_9', 'category_10', 'category_11', 'category_12', 'category_13', 'promotion_last_week_0', 'promotion_last_week_1']\n",
      "['checkout_price', 'base_price', 'center_id_10', 'center_id_11', 'center_id_13', 'center_id_14', 'center_id_17', 'center_id_20', 'center_id_23', 'center_id_24', 'center_id_26', 'center_id_27', 'center_id_29', 'center_id_30', 'center_id_32', 'center_id_34', 'center_id_36', 'center_id_39', 'center_id_41', 'center_id_42', 'center_id_43', 'center_id_50', 'center_id_51', 'center_id_52', 'center_id_53', 'center_id_55', 'center_id_57', 'center_id_58', 'center_id_59', 'center_id_61', 'center_id_64', 'center_id_65', 'center_id_66', 'center_id_67', 'center_id_68', 'center_id_72', 'center_id_73', 'center_id_74', 'center_id_75', 'center_id_76', 'center_id_77', 'center_id_80', 'center_id_81', 'center_id_83', 'center_id_86', 'center_id_88', 'center_id_89', 'center_id_91', 'center_id_92', 'center_id_93', 'center_id_94', 'center_id_97', 'center_id_99', 'center_id_101', 'center_id_102', 'center_id_104', 'center_id_106', 'center_id_108', 'center_id_109', 'center_id_110', 'center_id_113', 'center_id_124', 'center_id_126', 'center_id_129', 'center_id_132', 'center_id_137', 'center_id_139', 'center_id_143', 'center_id_145', 'center_id_146', 'center_id_149', 'center_id_152', 'center_id_153', 'center_id_157', 'center_id_161', 'center_id_162', 'center_id_174', 'center_id_177', 'center_id_186', 'meal_id_1062', 'meal_id_1109', 'meal_id_1198', 'meal_id_1207', 'meal_id_1216', 'meal_id_1230', 'meal_id_1247', 'meal_id_1248', 'meal_id_1311', 'meal_id_1438', 'meal_id_1445', 'meal_id_1525', 'meal_id_1543', 'meal_id_1558', 'meal_id_1571', 'meal_id_1727', 'meal_id_1754', 'meal_id_1770', 'meal_id_1778', 'meal_id_1803', 'meal_id_1847', 'meal_id_1878', 'meal_id_1885', 'meal_id_1902', 'meal_id_1962', 'meal_id_1971', 'meal_id_1993', 'meal_id_2104', 'meal_id_2126', 'meal_id_2139', 'meal_id_2290', 'meal_id_2304', 'meal_id_2306', 'meal_id_2322', 'meal_id_2444', 'meal_id_2490', 'meal_id_2492', 'meal_id_2494', 'meal_id_2539', 'meal_id_2569', 'meal_id_2577', 'meal_id_2581', 'meal_id_2631', 'meal_id_2640', 'meal_id_2664', 'meal_id_2704', 'meal_id_2707', 'meal_id_2760', 'meal_id_2826', 'meal_id_2867', 'meal_id_2956', 'emailer_for_promotion_0', 'emailer_for_promotion_1', 'homepage_featured_0', 'homepage_featured_1', 'city_code_456', 'city_code_461', 'city_code_473', 'city_code_478', 'city_code_485', 'city_code_515', 'city_code_517', 'city_code_522', 'city_code_526', 'city_code_541', 'city_code_553', 'city_code_556', 'city_code_561', 'city_code_562', 'city_code_576', 'city_code_577', 'city_code_579', 'city_code_590', 'city_code_593', 'city_code_596', 'city_code_599', 'city_code_602', 'city_code_604', 'city_code_609', 'city_code_614', 'city_code_615', 'city_code_620', 'city_code_628', 'city_code_632', 'city_code_638', 'city_code_647', 'city_code_648', 'city_code_649', 'city_code_651', 'city_code_654', 'city_code_658', 'city_code_659', 'city_code_675', 'city_code_676', 'city_code_679', 'city_code_680', 'city_code_683', 'city_code_685', 'city_code_693', 'city_code_695', 'city_code_698', 'city_code_699', 'city_code_700', 'city_code_702', 'city_code_703', 'city_code_713', 'op_area_0.9', 'op_area_1.9', 'op_area_2.0', 'op_area_2.4', 'op_area_2.7', 'op_area_2.8', 'op_area_2.9', 'op_area_3.0', 'op_area_3.2', 'op_area_3.4', 'op_area_3.5', 'op_area_3.6', 'op_area_3.7', 'op_area_3.8', 'op_area_3.9', 'op_area_4.0', 'op_area_4.1', 'op_area_4.2', 'op_area_4.4', 'op_area_4.5', 'op_area_4.6', 'op_area_4.7', 'op_area_4.8', 'op_area_5.0', 'op_area_5.1', 'op_area_5.3', 'op_area_5.6', 'op_area_6.3', 'op_area_6.7', 'op_area_7.0', 'category_0', 'category_1', 'category_2', 'category_3', 'category_4', 'category_5', 'category_6', 'category_7', 'category_8', 'category_9', 'category_10', 'category_11', 'category_12', 'category_13', 'promotion_last_week_0', 'promotion_last_week_1']\n"
     ]
    }
   ],
   "source": [
    "print(all_regressors_xgb)\n",
    "print(all_regressors_prophet)"
   ]
  },
  {
   "cell_type": "markdown",
   "id": "1ab38cc9",
   "metadata": {},
   "source": [
    "**Summary:** Assigns values to variables."
   ]
  },
  {
   "cell_type": "code",
   "execution_count": null,
   "id": "cde218c8",
   "metadata": {},
   "outputs": [
    {
     "name": "stderr",
     "output_type": "stream",
     "text": [
      "/Users/basartemur/miniforge3/envs/scm-env/lib/python3.9/site-packages/prophet/forecaster.py:1272: PerformanceWarning: DataFrame is highly fragmented.  This is usually the result of calling `frame.insert` many times, which has poor performance.  Consider joining all columns at once using pd.concat(axis=1) instead. To get a de-fragmented frame, use `newframe = frame.copy()`\n",
      "  df['trend'] = self.predict_trend(df)\n"
     ]
    }
   ],
   "source": [
    "# Forecast on test set\n",
    "prophet_test_forecast = model.predict(df_test_encoded[['ds'] + all_regressors_prophet])\n",
    "X_test_xgb = df_test_encoded[all_regressors_xgb]\n",
    "residual_preds = xgb_model.predict(X_test_xgb)\n",
    "hybrid_preds = prophet_test_forecast['yhat'] + residual_preds"
   ]
  },
  {
   "cell_type": "markdown",
   "id": "bca09472",
   "metadata": {},
   "source": [
    "**Summary:** Assigns values to variables. Calls function: `print()`."
   ]
  },
  {
   "cell_type": "code",
   "execution_count": null,
   "id": "997a31a2",
   "metadata": {},
   "outputs": [
    {
     "name": "stdout",
     "output_type": "stream",
     "text": [
      "Prophet RMSE: 457.40\n",
      "Hybrid Prophet+XGBoost RMSE: 340.74\n"
     ]
    }
   ],
   "source": [
    "# Evaluate\n",
    "rmse_base = sqrt(mean_squared_error(df_test_encoded['y'], prophet_test_forecast['yhat']))\n",
    "rmse_hybrid = sqrt(mean_squared_error(df_test_encoded['y'], hybrid_preds))\n",
    "\n",
    "print(f\"Prophet RMSE: {rmse_base:.2f}\")\n",
    "print(f\"Hybrid Prophet+XGBoost RMSE: {rmse_hybrid:.2f}\")"
   ]
  },
  {
   "cell_type": "markdown",
   "id": "d9925d39",
   "metadata": {},
   "source": [
    "**Summary:** Executes general Python code."
   ]
  },
  {
   "cell_type": "code",
   "execution_count": null,
   "id": "da95c685",
   "metadata": {},
   "outputs": [
    {
     "data": {
      "image/png": "[encoded data removed]",
      "text/plain": [
       "<Figure size 1400x600 with 1 Axes>"
      ]
     },
     "metadata": {},
     "output_type": "display_data"
    }
   ],
   "source": [
    "# Plot results\n",
    "plt.figure(figsize=(14, 6))\n",
    "plt.plot(df_test_encoded.index, df_test_encoded['y'], label='Actual Orders', linewidth=2)\n",
    "plt.plot(df_test_encoded.index, prophet_test_forecast['yhat'], label='Prophet Prediction', linestyle='--')\n",
    "plt.plot(df_test_encoded.index, hybrid_preds, label='Hybrid Prediction', linestyle='-.')\n",
    "plt.xlabel('Transaction Index')\n",
    "plt.ylabel('Orders')\n",
    "plt.title('Actual vs Predicted Orders (Prophet + XGBoost)')\n",
    "plt.legend()\n",
    "plt.grid(True)\n",
    "plt.tight_layout()\n",
    "plt.show()"
   ]
  },
  {
   "cell_type": "markdown",
   "id": "1c85a6db",
   "metadata": {},
   "source": [
    "**Summary:** Assigns values to variables."
   ]
  },
  {
   "cell_type": "code",
   "execution_count": null,
   "id": "b7e18de7",
   "metadata": {},
   "outputs": [],
   "source": [
    "\n",
    "df_test1 = pd.read_csv(\"../Data/test.csv\")\n",
    "\n",
    "\n",
    "df_CentInf = pd.read_csv('../Data/fulfilment_center_info.csv')\n",
    "df_MealInf = pd.read_csv('../Data/meal_info.csv')\n",
    "\n"
   ]
  },
  {
   "cell_type": "markdown",
   "id": "3bc669f8",
   "metadata": {},
   "source": [
    "**Summary:** Assigns values to variables."
   ]
  },
  {
   "cell_type": "code",
   "execution_count": null,
   "id": "7b5ef24d",
   "metadata": {},
   "outputs": [],
   "source": [
    "df_TrMerg1 = pd.merge(df_test1, df_CentInf, how='inner', on='center_id')"
   ]
  },
  {
   "cell_type": "markdown",
   "id": "210bb5e8",
   "metadata": {},
   "source": [
    "**Summary:** Assigns values to variables. Calls function: `print()`."
   ]
  },
  {
   "cell_type": "code",
   "execution_count": null,
   "id": "3323affd",
   "metadata": {},
   "outputs": [
    {
     "name": "stdout",
     "output_type": "stream",
     "text": [
      "             id  center_id  meal_id  checkout_price  base_price  \\\n",
      "365238  1167646        143     1445          726.53      727.53   \n",
      "365239  1119716         59     2867          688.73      687.73   \n",
      "365240  1150884        145     1770          484.03      485.03   \n",
      "365241  1154838         72     1993          151.35      147.50   \n",
      "365242  1183400         53     1247          445.23      446.23   \n",
      "\n",
      "        emailer_for_promotion  homepage_featured  city_code  region_code  \\\n",
      "365238                      0                  0        562           77   \n",
      "365239                      0                  0        456           56   \n",
      "365240                      0                  0        620           77   \n",
      "365241                      0                  1        638           56   \n",
      "365242                      0                  0        590           56   \n",
      "\n",
      "        center_type  op_area  category  cuisine                            ds  \\\n",
      "365238            1      3.8         8        3 1970-01-01 00:00:00.000000118   \n",
      "365239            2      4.2         8        3 1970-01-01 00:00:00.000000118   \n",
      "365240            2      3.9         5        1 1970-01-01 00:00:00.000000118   \n",
      "365241            0      3.9         0        0 1970-01-01 00:00:00.000000118   \n",
      "365242            2      3.8         5        1 1970-01-01 00:00:00.000000118   \n",
      "\n",
      "          y  promotion  promotion_last_week  \n",
      "365238   41          0                    0  \n",
      "365239   69          0                    0  \n",
      "365240   28          0                    0  \n",
      "365241  675          1                    1  \n",
      "365242   26          0                    0  \n"
     ]
    }
   ],
   "source": [
    "df_test2 = pd.merge(df_TrMerg1, df_MealInf, how='inner', on='meal_id')\n",
    "print(df_test.head())"
   ]
  },
  {
   "cell_type": "markdown",
   "id": "f5d2196f",
   "metadata": {},
   "source": [
    "**Summary:** Executes general Python code."
   ]
  },
  {
   "cell_type": "code",
   "execution_count": null,
   "id": "d107804e",
   "metadata": {},
   "outputs": [],
   "source": [
    "# --- Convert week to datetime and prepare target ---\n",
    "for df in [df_test2]:\n",
    "    df['ds'] = pd.to_datetime(df['week'])\n",
    "    # df['y'] = df.get('num_orders', 0)  # fill test y with zeros if not present\n",
    "    df['promotion'] = df['emailer_for_promotion'] | df['homepage_featured']\n",
    "    df.drop(columns=['week'], errors='ignore', inplace=True)"
   ]
  },
  {
   "cell_type": "markdown",
   "id": "197dbf51",
   "metadata": {},
   "source": [
    "**Summary:** Assigns values to variables. Calls function: `print()`."
   ]
  },
  {
   "cell_type": "code",
   "execution_count": null,
   "id": "141a7d70",
   "metadata": {},
   "outputs": [
    {
     "name": "stdout",
     "output_type": "stream",
     "text": [
      "        id  center_id  meal_id  checkout_price  base_price  \\\n",
      "0  1177098         10     1062          190.18      190.18   \n",
      "1  1486011         10     1062          193.03      194.03   \n",
      "2  1301735         10     1062          191.09      191.09   \n",
      "3  1273097         10     1062          189.15      189.15   \n",
      "4  1450902         10     1062          194.06      193.06   \n",
      "\n",
      "   emailer_for_promotion  homepage_featured  city_code  region_code  \\\n",
      "0                      0                  0        590           56   \n",
      "1                      0                  0        590           56   \n",
      "2                      0                  0        590           56   \n",
      "3                      0                  0        590           56   \n",
      "4                      0                  0        590           56   \n",
      "\n",
      "  center_type  op_area   category  cuisine                            ds  \\\n",
      "0      TYPE_B      6.3  Beverages  Italian 1970-01-01 00:00:00.000000146   \n",
      "1      TYPE_B      6.3  Beverages  Italian 1970-01-01 00:00:00.000000147   \n",
      "2      TYPE_B      6.3  Beverages  Italian 1970-01-01 00:00:00.000000148   \n",
      "3      TYPE_B      6.3  Beverages  Italian 1970-01-01 00:00:00.000000149   \n",
      "4      TYPE_B      6.3  Beverages  Italian 1970-01-01 00:00:00.000000150   \n",
      "\n",
      "   promotion  promotion_last_week  \n",
      "0          0                    0  \n",
      "1          0                    0  \n",
      "2          0                    0  \n",
      "3          0                    0  \n",
      "4          0                    0  \n"
     ]
    }
   ],
   "source": [
    "# --- Group-aware lag: promotion_last_week ---\n",
    "df_all2 = pd.concat([df_test2]).sort_values(['center_id', 'meal_id', 'ds']).reset_index(drop=True)\n",
    "df_all2['promotion_last_week'] = df_all2.groupby(['center_id', 'meal_id'])['promotion'].shift(1).fillna(0).astype(int)\n",
    "print(df_all2.head())"
   ]
  },
  {
   "cell_type": "markdown",
   "id": "4ead05f9",
   "metadata": {},
   "source": [
    "**Summary:** Assigns values to variables. Calls function: `print()`."
   ]
  },
  {
   "cell_type": "code",
   "execution_count": null,
   "id": "06219058",
   "metadata": {},
   "outputs": [
    {
     "name": "stdout",
     "output_type": "stream",
     "text": [
      "        id  center_id  meal_id  checkout_price  base_price  \\\n",
      "0  1177098         10     1062          190.18      190.18   \n",
      "1  1486011         10     1062          193.03      194.03   \n",
      "2  1301735         10     1062          191.09      191.09   \n",
      "3  1273097         10     1062          189.15      189.15   \n",
      "4  1450902         10     1062          194.06      193.06   \n",
      "\n",
      "   emailer_for_promotion  homepage_featured  city_code  region_code  \\\n",
      "0                      0                  0        590           56   \n",
      "1                      0                  0        590           56   \n",
      "2                      0                  0        590           56   \n",
      "3                      0                  0        590           56   \n",
      "4                      0                  0        590           56   \n",
      "\n",
      "  center_type  op_area   category  cuisine                            ds  \\\n",
      "0      TYPE_B      6.3  Beverages  Italian 1970-01-01 00:00:00.000000146   \n",
      "1      TYPE_B      6.3  Beverages  Italian 1970-01-01 00:00:00.000000147   \n",
      "2      TYPE_B      6.3  Beverages  Italian 1970-01-01 00:00:00.000000148   \n",
      "3      TYPE_B      6.3  Beverages  Italian 1970-01-01 00:00:00.000000149   \n",
      "4      TYPE_B      6.3  Beverages  Italian 1970-01-01 00:00:00.000000150   \n",
      "\n",
      "   promotion  promotion_last_week  \n",
      "0          0                    0  \n",
      "1          0                    0  \n",
      "2          0                    0  \n",
      "3          0                    0  \n",
      "4          0                    0  \n"
     ]
    }
   ],
   "source": [
    "# --- Split back to train/test after lag ---\n",
    "\n",
    "df_test2=df_all2.copy()\n",
    "print(df_test2.head())"
   ]
  },
  {
   "cell_type": "markdown",
   "id": "7c9dc082",
   "metadata": {},
   "source": [
    "**Summary:** Assigns values to variables."
   ]
  },
  {
   "cell_type": "code",
   "execution_count": null,
   "id": "97f0aebd",
   "metadata": {},
   "outputs": [],
   "source": [
    "# --- Categorical and continuous features ---\n",
    "categorical_vars2 = ['center_id', 'meal_id', 'emailer_for_promotion',\n",
    "                    'homepage_featured', 'city_code', 'op_area', 'category', 'promotion_last_week']\n",
    "continuous_vars2 = ['checkout_price', 'base_price']"
   ]
  },
  {
   "cell_type": "markdown",
   "id": "ed95d0f9",
   "metadata": {},
   "source": [
    "**Summary:** Calls function: `print()`."
   ]
  },
  {
   "cell_type": "code",
   "execution_count": null,
   "id": "0a4c97fa",
   "metadata": {},
   "outputs": [
    {
     "name": "stdout",
     "output_type": "stream",
     "text": [
      "        id  center_id  meal_id  checkout_price  base_price  \\\n",
      "0  1177098         10     1062          190.18      190.18   \n",
      "1  1486011         10     1062          193.03      194.03   \n",
      "2  1301735         10     1062          191.09      191.09   \n",
      "3  1273097         10     1062          189.15      189.15   \n",
      "4  1450902         10     1062          194.06      193.06   \n",
      "\n",
      "   emailer_for_promotion  homepage_featured  city_code  region_code  \\\n",
      "0                      0                  0        590           56   \n",
      "1                      0                  0        590           56   \n",
      "2                      0                  0        590           56   \n",
      "3                      0                  0        590           56   \n",
      "4                      0                  0        590           56   \n",
      "\n",
      "  center_type  op_area   category  cuisine                            ds  \\\n",
      "0      TYPE_B      6.3  Beverages  Italian 1970-01-01 00:00:00.000000146   \n",
      "1      TYPE_B      6.3  Beverages  Italian 1970-01-01 00:00:00.000000147   \n",
      "2      TYPE_B      6.3  Beverages  Italian 1970-01-01 00:00:00.000000148   \n",
      "3      TYPE_B      6.3  Beverages  Italian 1970-01-01 00:00:00.000000149   \n",
      "4      TYPE_B      6.3  Beverages  Italian 1970-01-01 00:00:00.000000150   \n",
      "\n",
      "   promotion  promotion_last_week  \n",
      "0          0                    0  \n",
      "1          0                    0  \n",
      "2          0                    0  \n",
      "3          0                    0  \n",
      "4          0                    0  \n"
     ]
    }
   ],
   "source": [
    "\n",
    "print(df_test2.head())\n",
    "\n"
   ]
  },
  {
   "cell_type": "markdown",
   "id": "a1977285",
   "metadata": {},
   "source": [
    "**Summary:** Assigns values to variables. Calls function: `print()`."
   ]
  },
  {
   "cell_type": "code",
   "execution_count": null,
   "id": "f211661f",
   "metadata": {},
   "outputs": [
    {
     "name": "stdout",
     "output_type": "stream",
     "text": [
      "        id  center_id  meal_id  checkout_price  base_price  \\\n",
      "0  1177098         10     1062          190.18      190.18   \n",
      "1  1486011         10     1062          193.03      194.03   \n",
      "2  1301735         10     1062          191.09      191.09   \n",
      "3  1273097         10     1062          189.15      189.15   \n",
      "4  1450902         10     1062          194.06      193.06   \n",
      "\n",
      "   emailer_for_promotion  homepage_featured  city_code  region_code  \\\n",
      "0                      0                  0        590           56   \n",
      "1                      0                  0        590           56   \n",
      "2                      0                  0        590           56   \n",
      "3                      0                  0        590           56   \n",
      "4                      0                  0        590           56   \n",
      "\n",
      "   center_type  op_area  category  cuisine                            ds  \\\n",
      "0            0      6.3         0        0 1970-01-01 00:00:00.000000146   \n",
      "1            0      6.3         0        0 1970-01-01 00:00:00.000000147   \n",
      "2            0      6.3         0        0 1970-01-01 00:00:00.000000148   \n",
      "3            0      6.3         0        0 1970-01-01 00:00:00.000000149   \n",
      "4            0      6.3         0        0 1970-01-01 00:00:00.000000150   \n",
      "\n",
      "   promotion  promotion_last_week  \n",
      "0          0                    0  \n",
      "1          0                    0  \n",
      "2          0                    0  \n",
      "3          0                    0  \n",
      "4          0                    0  \n"
     ]
    }
   ],
   "source": [
    "cat_var2 = ['center_type',\n",
    " 'category',\n",
    " 'cuisine']\n",
    "\n",
    "\n",
    "\n",
    "df_encoded_test2=df_test2.copy()\n",
    "\n",
    "for i in cat_var2:\n",
    "    df_encoded_test2[i] = pd.factorize(df_encoded_test2[i])[0]\n",
    "\n",
    "print(df_encoded_test2.head())"
   ]
  },
  {
   "cell_type": "markdown",
   "id": "a1462e77",
   "metadata": {},
   "source": [
    "**Summary:** Assigns values to variables. Calls function: `print()`."
   ]
  },
  {
   "cell_type": "code",
   "execution_count": null,
   "id": "f4a35d2f",
   "metadata": {},
   "outputs": [
    {
     "name": "stdout",
     "output_type": "stream",
     "text": [
      "        id  checkout_price  base_price  region_code  center_type  cuisine  \\\n",
      "0  1177098          190.18      190.18           56            0        0   \n",
      "1  1486011          193.03      194.03           56            0        0   \n",
      "2  1301735          191.09      191.09           56            0        0   \n",
      "3  1273097          189.15      189.15           56            0        0   \n",
      "4  1450902          194.06      193.06           56            0        0   \n",
      "\n",
      "                             ds  promotion  center_id_10  center_id_11  ...  \\\n",
      "0 1970-01-01 00:00:00.000000146          0             1             0  ...   \n",
      "1 1970-01-01 00:00:00.000000147          0             1             0  ...   \n",
      "2 1970-01-01 00:00:00.000000148          0             1             0  ...   \n",
      "3 1970-01-01 00:00:00.000000149          0             1             0  ...   \n",
      "4 1970-01-01 00:00:00.000000150          0             1             0  ...   \n",
      "\n",
      "   category_6  category_7  category_8  category_9  category_10  category_11  \\\n",
      "0           0           0           0           0            0            0   \n",
      "1           0           0           0           0            0            0   \n",
      "2           0           0           0           0            0            0   \n",
      "3           0           0           0           0            0            0   \n",
      "4           0           0           0           0            0            0   \n",
      "\n",
      "   category_12  category_13  promotion_last_week_0  promotion_last_week_1  \n",
      "0            0            0                      1                      0  \n",
      "1            0            0                      1                      0  \n",
      "2            0            0                      1                      0  \n",
      "3            0            0                      1                      0  \n",
      "4            0            0                      1                      0  \n",
      "\n",
      "[5 rows x 237 columns]\n"
     ]
    }
   ],
   "source": [
    "df_encoded2 = pd.get_dummies(df_encoded_test2, columns=categorical_vars, dtype=int)\n",
    "print(df_encoded2.head())"
   ]
  },
  {
   "cell_type": "markdown",
   "id": "6908bc97",
   "metadata": {},
   "source": [
    "**Summary:** Assigns values to variables. Calls function: `print()`."
   ]
  },
  {
   "cell_type": "code",
   "execution_count": null,
   "id": "413853b6",
   "metadata": {},
   "outputs": [
    {
     "name": "stdout",
     "output_type": "stream",
     "text": [
      "        id  checkout_price  base_price  region_code  center_type  cuisine  \\\n",
      "0  1177098          190.18      190.18           56            0        0   \n",
      "1  1486011          193.03      194.03           56            0        0   \n",
      "2  1301735          191.09      191.09           56            0        0   \n",
      "3  1273097          189.15      189.15           56            0        0   \n",
      "4  1450902          194.06      193.06           56            0        0   \n",
      "\n",
      "                             ds  promotion  center_id_10  center_id_11  ...  \\\n",
      "0 1970-01-01 00:00:00.000000146          0             1             0  ...   \n",
      "1 1970-01-01 00:00:00.000000147          0             1             0  ...   \n",
      "2 1970-01-01 00:00:00.000000148          0             1             0  ...   \n",
      "3 1970-01-01 00:00:00.000000149          0             1             0  ...   \n",
      "4 1970-01-01 00:00:00.000000150          0             1             0  ...   \n",
      "\n",
      "   category_6  category_7  category_8  category_9  category_10  category_11  \\\n",
      "0           0           0           0           0            0            0   \n",
      "1           0           0           0           0            0            0   \n",
      "2           0           0           0           0            0            0   \n",
      "3           0           0           0           0            0            0   \n",
      "4           0           0           0           0            0            0   \n",
      "\n",
      "   category_12  category_13  promotion_last_week_0  promotion_last_week_1  \n",
      "0            0            0                      1                      0  \n",
      "1            0            0                      1                      0  \n",
      "2            0            0                      1                      0  \n",
      "3            0            0                      1                      0  \n",
      "4            0            0                      1                      0  \n",
      "\n",
      "[5 rows x 237 columns]\n"
     ]
    }
   ],
   "source": [
    "# --- Align columns ---\n",
    "\n",
    "df_test_encoded2 = df_encoded2.copy()\n",
    "print(df_test_encoded2.head())"
   ]
  },
  {
   "cell_type": "markdown",
   "id": "bda0b521",
   "metadata": {},
   "source": [
    "**Summary:** Calls function: `print()`."
   ]
  },
  {
   "cell_type": "code",
   "execution_count": null,
   "id": "65bad0cc",
   "metadata": {},
   "outputs": [
    {
     "name": "stdout",
     "output_type": "stream",
     "text": [
      "['checkout_price', 'base_price', 'center_id_10', 'center_id_11', 'center_id_13', 'center_id_14', 'center_id_17', 'center_id_20', 'center_id_23', 'center_id_24', 'center_id_26', 'center_id_27', 'center_id_29', 'center_id_30', 'center_id_32', 'center_id_34', 'center_id_36', 'center_id_39', 'center_id_41', 'center_id_42', 'center_id_43', 'center_id_50', 'center_id_51', 'center_id_52', 'center_id_53', 'center_id_55', 'center_id_57', 'center_id_58', 'center_id_59', 'center_id_61', 'center_id_64', 'center_id_65', 'center_id_66', 'center_id_67', 'center_id_68', 'center_id_72', 'center_id_73', 'center_id_74', 'center_id_75', 'center_id_76', 'center_id_77', 'center_id_80', 'center_id_81', 'center_id_83', 'center_id_86', 'center_id_88', 'center_id_89', 'center_id_91', 'center_id_92', 'center_id_93', 'center_id_94', 'center_id_97', 'center_id_99', 'center_id_101', 'center_id_102', 'center_id_104', 'center_id_106', 'center_id_108', 'center_id_109', 'center_id_110', 'center_id_113', 'center_id_124', 'center_id_126', 'center_id_129', 'center_id_132', 'center_id_137', 'center_id_139', 'center_id_143', 'center_id_145', 'center_id_146', 'center_id_149', 'center_id_152', 'center_id_153', 'center_id_157', 'center_id_161', 'center_id_162', 'center_id_174', 'center_id_177', 'center_id_186', 'meal_id_1062', 'meal_id_1109', 'meal_id_1198', 'meal_id_1207', 'meal_id_1216', 'meal_id_1230', 'meal_id_1247', 'meal_id_1248', 'meal_id_1311', 'meal_id_1438', 'meal_id_1445', 'meal_id_1525', 'meal_id_1543', 'meal_id_1558', 'meal_id_1571', 'meal_id_1727', 'meal_id_1754', 'meal_id_1770', 'meal_id_1778', 'meal_id_1803', 'meal_id_1847', 'meal_id_1878', 'meal_id_1885', 'meal_id_1902', 'meal_id_1962', 'meal_id_1971', 'meal_id_1993', 'meal_id_2104', 'meal_id_2126', 'meal_id_2139', 'meal_id_2290', 'meal_id_2304', 'meal_id_2306', 'meal_id_2322', 'meal_id_2444', 'meal_id_2490', 'meal_id_2492', 'meal_id_2494', 'meal_id_2539', 'meal_id_2569', 'meal_id_2577', 'meal_id_2581', 'meal_id_2631', 'meal_id_2640', 'meal_id_2664', 'meal_id_2704', 'meal_id_2707', 'meal_id_2760', 'meal_id_2826', 'meal_id_2867', 'meal_id_2956', 'emailer_for_promotion_0', 'emailer_for_promotion_1', 'homepage_featured_0', 'homepage_featured_1', 'city_code_456', 'city_code_461', 'city_code_473', 'city_code_478', 'city_code_485', 'city_code_515', 'city_code_517', 'city_code_522', 'city_code_526', 'city_code_541', 'city_code_553', 'city_code_556', 'city_code_561', 'city_code_562', 'city_code_576', 'city_code_577', 'city_code_579', 'city_code_590', 'city_code_593', 'city_code_596', 'city_code_599', 'city_code_602', 'city_code_604', 'city_code_609', 'city_code_614', 'city_code_615', 'city_code_620', 'city_code_628', 'city_code_632', 'city_code_638', 'city_code_647', 'city_code_648', 'city_code_649', 'city_code_651', 'city_code_654', 'city_code_658', 'city_code_659', 'city_code_675', 'city_code_676', 'city_code_679', 'city_code_680', 'city_code_683', 'city_code_685', 'city_code_693', 'city_code_695', 'city_code_698', 'city_code_699', 'city_code_700', 'city_code_702', 'city_code_703', 'city_code_713', 'op_area_0.9', 'op_area_1.9', 'op_area_2.0', 'op_area_2.4', 'op_area_2.7', 'op_area_2.8', 'op_area_2.9', 'op_area_3.0', 'op_area_3.2', 'op_area_3.4', 'op_area_3.5', 'op_area_3.6', 'op_area_3.7', 'op_area_3.8', 'op_area_3.9', 'op_area_4.0', 'op_area_4.1', 'op_area_4.2', 'op_area_4.4', 'op_area_4.5', 'op_area_4.6', 'op_area_4.7', 'op_area_4.8', 'op_area_5.0', 'op_area_5.1', 'op_area_5.3', 'op_area_5.6', 'op_area_6.3', 'op_area_6.7', 'op_area_7.0', 'category_0', 'category_1', 'category_2', 'category_3', 'category_4', 'category_5', 'category_6', 'category_7', 'category_8', 'category_9', 'category_10', 'category_11', 'category_12', 'category_13', 'promotion_last_week_0', 'promotion_last_week_1']\n"
     ]
    }
   ],
   "source": [
    "print(all_regressors_prophet)\n"
   ]
  },
  {
   "cell_type": "markdown",
   "id": "c1ae648e",
   "metadata": {},
   "source": [
    "**Summary:** Assigns values to variables."
   ]
  },
  {
   "cell_type": "code",
   "execution_count": null,
   "id": "bac7d007",
   "metadata": {},
   "outputs": [
    {
     "name": "stderr",
     "output_type": "stream",
     "text": [
      "/Users/basartemur/miniforge3/envs/scm-env/lib/python3.9/site-packages/prophet/forecaster.py:1272: PerformanceWarning: DataFrame is highly fragmented.  This is usually the result of calling `frame.insert` many times, which has poor performance.  Consider joining all columns at once using pd.concat(axis=1) instead. To get a de-fragmented frame, use `newframe = frame.copy()`\n",
      "  df['trend'] = self.predict_trend(df)\n"
     ]
    }
   ],
   "source": [
    "# --- Get base predictions and residuals ---\n",
    "\n",
    "forecast_test_uns2 = model.predict(df_test_encoded2[['ds'] + all_regressors_prophet])\n"
   ]
  },
  {
   "cell_type": "markdown",
   "id": "5c87aa98",
   "metadata": {},
   "source": [
    "**Summary:** Assigns values to variables."
   ]
  },
  {
   "cell_type": "code",
   "execution_count": null,
   "id": "1b4d7048",
   "metadata": {},
   "outputs": [],
   "source": [
    "# Forecast on test set\n",
    "\n",
    "X_test_xgb2 = df_test_encoded2[all_regressors_xgb]\n",
    "residual_preds2 = xgb_model.predict(X_test_xgb2)\n",
    "hybrid_preds2 = forecast_test_uns2['yhat'] + residual_preds2"
   ]
  },
  {
   "cell_type": "markdown",
   "id": "d1e46050",
   "metadata": {},
   "source": [
    "**Summary:** Assigns values to variables."
   ]
  },
  {
   "cell_type": "code",
   "execution_count": null,
   "id": "b8bfc585",
   "metadata": {},
   "outputs": [],
   "source": [
    "ypred2 = pd.DataFrame(hybrid_preds2)"
   ]
  },
  {
   "cell_type": "markdown",
   "id": "b242c1f3",
   "metadata": {},
   "source": [
    "**Summary:** Assigns values to variables."
   ]
  },
  {
   "cell_type": "code",
   "execution_count": null,
   "id": "9b54aaa5",
   "metadata": {},
   "outputs": [],
   "source": [
    "#join predictions to original unseen dataset\n",
    "predictions2 = pd.merge(df_test1, ypred2, left_index=True, right_index=True, how='inner')"
   ]
  },
  {
   "cell_type": "markdown",
   "id": "ce300fa7",
   "metadata": {},
   "source": [
    "**Summary:** Calls function: `print()`."
   ]
  },
  {
   "cell_type": "code",
   "execution_count": null,
   "id": "b7555b6c",
   "metadata": {},
   "outputs": [
    {
     "name": "stdout",
     "output_type": "stream",
     "text": [
      "        id  week  center_id  meal_id  checkout_price  base_price  \\\n",
      "0  1028232   146         55     1885          158.11      159.11   \n",
      "1  1127204   146         55     1993          160.11      159.11   \n",
      "2  1212707   146         55     2539          157.14      159.14   \n",
      "3  1082698   146         55     2631          162.02      162.02   \n",
      "4  1400926   146         55     1248          163.93      163.93   \n",
      "\n",
      "   emailer_for_promotion  homepage_featured        yhat  \n",
      "0                      0                  0  952.266312  \n",
      "1                      0                  0  324.801126  \n",
      "2                      0                  0  758.056236  \n",
      "3                      0                  0  528.916769  \n",
      "4                      0                  0  108.391142  \n"
     ]
    }
   ],
   "source": [
    "#Create named column num_orders using data from column index 0\n",
    "print(predictions2.head())\n"
   ]
  },
  {
   "cell_type": "markdown",
   "id": "0b10212d",
   "metadata": {},
   "source": [
    "**Summary:** Assigns values to variables."
   ]
  },
  {
   "cell_type": "code",
   "execution_count": null,
   "id": "ebc123fd",
   "metadata": {},
   "outputs": [],
   "source": [
    "predictions2['num_orders2'] = predictions2['yhat']"
   ]
  },
  {
   "cell_type": "markdown",
   "id": "226155d1",
   "metadata": {},
   "source": [
    "**Summary:** Assigns values to variables."
   ]
  },
  {
   "cell_type": "code",
   "execution_count": null,
   "id": "040e2186",
   "metadata": {},
   "outputs": [],
   "source": [
    "#Create prediction series for plotting\n",
    "ts_tot_pred2 = predictions2.groupby(['week'])['num_orders2'].sum()\n",
    "ts_tot_pred2 = pd.DataFrame(ts_tot_pred2)"
   ]
  },
  {
   "cell_type": "markdown",
   "id": "aa0e3843",
   "metadata": {},
   "source": [
    "**Summary:** Assigns values to variables."
   ]
  },
  {
   "cell_type": "code",
   "execution_count": null,
   "id": "555bffcb",
   "metadata": {},
   "outputs": [],
   "source": [
    "df_base = pd.read_csv(\"../Data/train_proc.csv\")\n",
    "ts_base=df_base.groupby(['week'])['num_orders'].sum()\n",
    "ts_base2 = pd.DataFrame(ts_base)"
   ]
  },
  {
   "cell_type": "markdown",
   "id": "a3b6be3c",
   "metadata": {},
   "source": [
    "**Summary:** Assigns values to variables. Imports libraries."
   ]
  },
  {
   "cell_type": "code",
   "execution_count": null,
   "id": "d2a43330",
   "metadata": {},
   "outputs": [
    {
     "data": {
      "application/vnd.plotly.v1+json": {
       "config": {
        "linkText": "Export to plot.ly",
        "plotlyServerURL": "https://plot.ly",
        "showLink": false
       },
       "data": [
        {
         "marker": {
          "color": "Blue"
         },
         "name": "Time Series for num_orders",
         "type": "scatter",
         "x": [
          1,
          2,
          3,
          4,
          5,
          6,
          7,
          8,
          9,
          10,
          11,
          12,
          13,
          14,
          15,
          16,
          17,
          18,
          19,
          20,
          21,
          22,
          23,
          24,
          25,
          26,
          27,
          28,
          29,
          30,
          31,
          32,
          33,
          34,
          35,
          36,
          37,
          38,
          39,
          40,
          41,
          42,
          43,
          44,
          45,
          46,
          47,
          48,
          49,
          50,
          51,
          52,
          53,
          54,
          55,
          56,
          57,
          58,
          59,
          60,
          61,
          62,
          63,
          64,
          65,
          66,
          67,
          68,
          69,
          70,
          71,
          72,
          73,
          74,
          75,
          76,
          77,
          78,
          79,
          80,
          81,
          82,
          83,
          84,
          85,
          86,
          87,
          88,
          89,
          90,
          91,
          92,
          93,
          94,
          95,
          96,
          97,
          98,
          99,
          100,
          101,
          102,
          103,
          104,
          105,
          106,
          107,
          108,
          109,
          110,
          111,
          112,
          113,
          114,
          115,
          116,
          117,
          118,
          119,
          120,
          121,
          122,
          123,
          124,
          125,
          126,
          127,
          128,
          129,
          130,
          131,
          132,
          133,
          134,
          135,
          136,
          137,
          138,
          139,
          140,
          141,
          142,
          143,
          144,
          145
         ],
         "y": [
          792261,
          787084,
          695262,
          743529,
          1198675,
          947288,
          934803,
          670518,
          723243,
          811825,
          772225,
          690259,
          656102,
          636981,
          651719,
          611515,
          820285,
          932560,
          787196,
          677834,
          707013,
          834111,
          773271,
          647341,
          749583,
          805805,
          740014,
          648863,
          625414,
          915399,
          783214,
          1034202,
          730936,
          693603,
          630458,
          724865,
          877853,
          974566,
          770964,
          807159,
          791493,
          766289,
          693271,
          738583,
          981199,
          862620,
          808269,
          1303457,
          936980,
          890778,
          723036,
          1046811,
          1108236,
          757268,
          875145,
          843250,
          916721,
          834445,
          776781,
          1131459,
          860105,
          380065,
          812075,
          784508,
          844869,
          710083,
          756281,
          1009974,
          1075188,
          1004649,
          1015726,
          732551,
          702678,
          789591,
          970760,
          902928,
          833394,
          862030,
          1004611,
          698063,
          681412,
          859477,
          900091,
          768315,
          860433,
          823515,
          805140,
          745193,
          743489,
          849868,
          834397,
          908145,
          900170,
          825030,
          905841,
          765117,
          609977,
          894021,
          742048,
          1088162,
          999447,
          890983,
          713569,
          774644,
          891479,
          847485,
          783851,
          908764,
          1068318,
          889255,
          892631,
          852107,
          889696,
          813601,
          805469,
          855465,
          809625,
          777707,
          811709,
          753871,
          950500,
          944706,
          889926,
          827257,
          750541,
          810838,
          762737,
          878397,
          843661,
          920019,
          899953,
          939374,
          835583,
          975072,
          777106,
          769623,
          719740,
          667343,
          751935,
          802689,
          776240,
          739661,
          759926,
          801197,
          671926
         ]
        },
        {
         "marker": {
          "color": "Red"
         },
         "name": "Predicted",
         "type": "scatter",
         "x": [
          146,
          147,
          148,
          149,
          150,
          151,
          152,
          153,
          154,
          155
         ],
         "y": [
          758141.4972213543,
          485508.51328417915,
          764472.1520255179,
          524580.3224156065,
          599629.4890849198,
          513689.100725706,
          481520.06965051475,
          450596.43059015676,
          435976.41750084836,
          341513.76291911723
         ]
        }
       ],
       "layout": {
        "plot_bgcolor": "rgba(0,0,0,0)",
        "template": {
         "data": {
          "bar": [
           {
            "error_x": {
             "color": "#2a3f5f"
            },
            "error_y": {
             "color": "#2a3f5f"
            },
            "marker": {
             "line": {
              "color": "#E5ECF6",
              "width": 0.5
             },
             "pattern": {
              "fillmode": "overlay",
              "size": 10,
              "solidity": 0.2
             }
            },
            "type": "bar"
           }
          ],
          "barpolar": [
           {
            "marker": {
             "line": {
              "color": "#E5ECF6",
              "width": 0.5
             },
             "pattern": {
              "fillmode": "overlay",
              "size": 10,
              "solidity": 0.2
             }
            },
            "type": "barpolar"
           }
          ],
          "carpet": [
           {
            "aaxis": {
             "endlinecolor": "#2a3f5f",
             "gridcolor": "white",
             "linecolor": "white",
             "minorgridcolor": "white",
             "startlinecolor": "#2a3f5f"
            },
            "baxis": {
             "endlinecolor": "#2a3f5f",
             "gridcolor": "white",
             "linecolor": "white",
             "minorgridcolor": "white",
             "startlinecolor": "#2a3f5f"
            },
            "type": "carpet"
           }
          ],
          "choropleth": [
           {
            "colorbar": {
             "outlinewidth": 0,
             "ticks": ""
            },
            "type": "choropleth"
           }
          ],
          "contour": [
           {
            "colorbar": {
             "outlinewidth": 0,
             "ticks": ""
            },
            "colorscale": [
             [
              0,
              "#0d0887"
             ],
             [
              0.1111111111111111,
              "#46039f"
             ],
             [
              0.2222222222222222,
              "#7201a8"
             ],
             [
              0.3333333333333333,
              "#9c179e"
             ],
             [
              0.4444444444444444,
              "#bd3786"
             ],
             [
              0.5555555555555556,
              "#d8576b"
             ],
             [
              0.6666666666666666,
              "#ed7953"
             ],
             [
              0.7777777777777778,
              "#fb9f3a"
             ],
             [
              0.8888888888888888,
              "#fdca26"
             ],
             [
              1,
              "#f0f921"
             ]
            ],
            "type": "contour"
           }
          ],
          "contourcarpet": [
           {
            "colorbar": {
             "outlinewidth": 0,
             "ticks": ""
            },
            "type": "contourcarpet"
           }
          ],
          "heatmap": [
           {
            "colorbar": {
             "outlinewidth": 0,
             "ticks": ""
            },
            "colorscale": [
             [
              0,
              "#0d0887"
             ],
             [
              0.1111111111111111,
              "#46039f"
             ],
             [
              0.2222222222222222,
              "#7201a8"
             ],
             [
              0.3333333333333333,
              "#9c179e"
             ],
             [
              0.4444444444444444,
              "#bd3786"
             ],
             [
              0.5555555555555556,
              "#d8576b"
             ],
             [
              0.6666666666666666,
              "#ed7953"
             ],
             [
              0.7777777777777778,
              "#fb9f3a"
             ],
             [
              0.8888888888888888,
              "#fdca26"
             ],
             [
              1,
              "#f0f921"
             ]
            ],
            "type": "heatmap"
           }
          ],
          "heatmapgl": [
           {
            "colorbar": {
             "outlinewidth": 0,
             "ticks": ""
            },
            "colorscale": [
             [
              0,
              "#0d0887"
             ],
             [
              0.1111111111111111,
              "#46039f"
             ],
             [
              0.2222222222222222,
              "#7201a8"
             ],
             [
              0.3333333333333333,
              "#9c179e"
             ],
             [
              0.4444444444444444,
              "#bd3786"
             ],
             [
              0.5555555555555556,
              "#d8576b"
             ],
             [
              0.6666666666666666,
              "#ed7953"
             ],
             [
              0.7777777777777778,
              "#fb9f3a"
             ],
             [
              0.8888888888888888,
              "#fdca26"
             ],
             [
              1,
              "#f0f921"
             ]
            ],
            "type": "heatmapgl"
           }
          ],
          "histogram": [
           {
            "marker": {
             "pattern": {
              "fillmode": "overlay",
              "size": 10,
              "solidity": 0.2
             }
            },
            "type": "histogram"
           }
          ],
          "histogram2d": [
           {
            "colorbar": {
             "outlinewidth": 0,
             "ticks": ""
            },
            "colorscale": [
             [
              0,
              "#0d0887"
             ],
             [
              0.1111111111111111,
              "#46039f"
             ],
             [
              0.2222222222222222,
              "#7201a8"
             ],
             [
              0.3333333333333333,
              "#9c179e"
             ],
             [
              0.4444444444444444,
              "#bd3786"
             ],
             [
              0.5555555555555556,
              "#d8576b"
             ],
             [
              0.6666666666666666,
              "#ed7953"
             ],
             [
              0.7777777777777778,
              "#fb9f3a"
             ],
             [
              0.8888888888888888,
              "#fdca26"
             ],
             [
              1,
              "#f0f921"
             ]
            ],
            "type": "histogram2d"
           }
          ],
          "histogram2dcontour": [
           {
            "colorbar": {
             "outlinewidth": 0,
             "ticks": ""
            },
            "colorscale": [
             [
              0,
              "#0d0887"
             ],
             [
              0.1111111111111111,
              "#46039f"
             ],
             [
              0.2222222222222222,
              "#7201a8"
             ],
             [
              0.3333333333333333,
              "#9c179e"
             ],
             [
              0.4444444444444444,
              "#bd3786"
             ],
             [
              0.5555555555555556,
              "#d8576b"
             ],
             [
              0.6666666666666666,
              "#ed7953"
             ],
             [
              0.7777777777777778,
              "#fb9f3a"
             ],
             [
              0.8888888888888888,
              "#fdca26"
             ],
             [
              1,
              "#f0f921"
             ]
            ],
            "type": "histogram2dcontour"
           }
          ],
          "mesh3d": [
           {
            "colorbar": {
             "outlinewidth": 0,
             "ticks": ""
            },
            "type": "mesh3d"
           }
          ],
          "parcoords": [
           {
            "line": {
             "colorbar": {
              "outlinewidth": 0,
              "ticks": ""
             }
            },
            "type": "parcoords"
           }
          ],
          "pie": [
           {
            "automargin": true,
            "type": "pie"
           }
          ],
          "scatter": [
           {
            "fillpattern": {
             "fillmode": "overlay",
             "size": 10,
             "solidity": 0.2
            },
            "type": "scatter"
           }
          ],
          "scatter3d": [
           {
            "line": {
             "colorbar": {
              "outlinewidth": 0,
              "ticks": ""
             }
            },
            "marker": {
             "colorbar": {
              "outlinewidth": 0,
              "ticks": ""
             }
            },
            "type": "scatter3d"
           }
          ],
          "scattercarpet": [
           {
            "marker": {
             "colorbar": {
              "outlinewidth": 0,
              "ticks": ""
             }
            },
            "type": "scattercarpet"
           }
          ],
          "scattergeo": [
           {
            "marker": {
             "colorbar": {
              "outlinewidth": 0,
              "ticks": ""
             }
            },
            "type": "scattergeo"
           }
          ],
          "scattergl": [
           {
            "marker": {
             "colorbar": {
              "outlinewidth": 0,
              "ticks": ""
             }
            },
            "type": "scattergl"
           }
          ],
          "scattermapbox": [
           {
            "marker": {
             "colorbar": {
              "outlinewidth": 0,
              "ticks": ""
             }
            },
            "type": "scattermapbox"
           }
          ],
          "scatterpolar": [
           {
            "marker": {
             "colorbar": {
              "outlinewidth": 0,
              "ticks": ""
             }
            },
            "type": "scatterpolar"
           }
          ],
          "scatterpolargl": [
           {
            "marker": {
             "colorbar": {
              "outlinewidth": 0,
              "ticks": ""
             }
            },
            "type": "scatterpolargl"
           }
          ],
          "scatterternary": [
           {
            "marker": {
             "colorbar": {
              "outlinewidth": 0,
              "ticks": ""
             }
            },
            "type": "scatterternary"
           }
          ],
          "surface": [
           {
            "colorbar": {
             "outlinewidth": 0,
             "ticks": ""
            },
            "colorscale": [
             [
              0,
              "#0d0887"
             ],
             [
              0.1111111111111111,
              "#46039f"
             ],
             [
              0.2222222222222222,
              "#7201a8"
             ],
             [
              0.3333333333333333,
              "#9c179e"
             ],
             [
              0.4444444444444444,
              "#bd3786"
             ],
             [
              0.5555555555555556,
              "#d8576b"
             ],
             [
              0.6666666666666666,
              "#ed7953"
             ],
             [
              0.7777777777777778,
              "#fb9f3a"
             ],
             [
              0.8888888888888888,
              "#fdca26"
             ],
             [
              1,
              "#f0f921"
             ]
            ],
            "type": "surface"
           }
          ],
          "table": [
           {
            "cells": {
             "fill": {
              "color": "#EBF0F8"
             },
             "line": {
              "color": "white"
             }
            },
            "header": {
             "fill": {
              "color": "#C8D4E3"
             },
             "line": {
              "color": "white"
             }
            },
            "type": "table"
           }
          ]
         },
         "layout": {
          "annotationdefaults": {
           "arrowcolor": "#2a3f5f",
           "arrowhead": 0,
           "arrowwidth": 1
          },
          "autotypenumbers": "strict",
          "coloraxis": {
           "colorbar": {
            "outlinewidth": 0,
            "ticks": ""
           }
          },
          "colorscale": {
           "diverging": [
            [
             0,
             "#8e0152"
            ],
            [
             0.1,
             "#c51b7d"
            ],
            [
             0.2,
             "#de77ae"
            ],
            [
             0.3,
             "#f1b6da"
            ],
            [
             0.4,
             "#fde0ef"
            ],
            [
             0.5,
             "#f7f7f7"
            ],
            [
             0.6,
             "#e6f5d0"
            ],
            [
             0.7,
             "#b8e186"
            ],
            [
             0.8,
             "#7fbc41"
            ],
            [
             0.9,
             "#4d9221"
            ],
            [
             1,
             "#276419"
            ]
           ],
           "sequential": [
            [
             0,
             "#0d0887"
            ],
            [
             0.1111111111111111,
             "#46039f"
            ],
            [
             0.2222222222222222,
             "#7201a8"
            ],
            [
             0.3333333333333333,
             "#9c179e"
            ],
            [
             0.4444444444444444,
             "#bd3786"
            ],
            [
             0.5555555555555556,
             "#d8576b"
            ],
            [
             0.6666666666666666,
             "#ed7953"
            ],
            [
             0.7777777777777778,
             "#fb9f3a"
            ],
            [
             0.8888888888888888,
             "#fdca26"
            ],
            [
             1,
             "#f0f921"
            ]
           ],
           "sequentialminus": [
            [
             0,
             "#0d0887"
            ],
            [
             0.1111111111111111,
             "#46039f"
            ],
            [
             0.2222222222222222,
             "#7201a8"
            ],
            [
             0.3333333333333333,
             "#9c179e"
            ],
            [
             0.4444444444444444,
             "#bd3786"
            ],
            [
             0.5555555555555556,
             "#d8576b"
            ],
            [
             0.6666666666666666,
             "#ed7953"
            ],
            [
             0.7777777777777778,
             "#fb9f3a"
            ],
            [
             0.8888888888888888,
             "#fdca26"
            ],
            [
             1,
             "#f0f921"
            ]
           ]
          },
          "colorway": [
           "#636efa",
           "#EF553B",
           "#00cc96",
           "#ab63fa",
           "#FFA15A",
           "#19d3f3",
           "#FF6692",
           "#B6E880",
           "#FF97FF",
           "#FECB52"
          ],
          "font": {
           "color": "#2a3f5f"
          },
          "geo": {
           "bgcolor": "white",
           "lakecolor": "white",
           "landcolor": "#E5ECF6",
           "showlakes": true,
           "showland": true,
           "subunitcolor": "white"
          },
          "hoverlabel": {
           "align": "left"
          },
          "hovermode": "closest",
          "mapbox": {
           "style": "light"
          },
          "paper_bgcolor": "white",
          "plot_bgcolor": "#E5ECF6",
          "polar": {
           "angularaxis": {
            "gridcolor": "white",
            "linecolor": "white",
            "ticks": ""
           },
           "bgcolor": "#E5ECF6",
           "radialaxis": {
            "gridcolor": "white",
            "linecolor": "white",
            "ticks": ""
           }
          },
          "scene": {
           "xaxis": {
            "backgroundcolor": "#E5ECF6",
            "gridcolor": "white",
            "gridwidth": 2,
            "linecolor": "white",
            "showbackground": true,
            "ticks": "",
            "zerolinecolor": "white"
           },
           "yaxis": {
            "backgroundcolor": "#E5ECF6",
            "gridcolor": "white",
            "gridwidth": 2,
            "linecolor": "white",
            "showbackground": true,
            "ticks": "",
            "zerolinecolor": "white"
           },
           "zaxis": {
            "backgroundcolor": "#E5ECF6",
            "gridcolor": "white",
            "gridwidth": 2,
            "linecolor": "white",
            "showbackground": true,
            "ticks": "",
            "zerolinecolor": "white"
           }
          },
          "shapedefaults": {
           "line": {
            "color": "#2a3f5f"
           }
          },
          "ternary": {
           "aaxis": {
            "gridcolor": "white",
            "linecolor": "white",
            "ticks": ""
           },
           "baxis": {
            "gridcolor": "white",
            "linecolor": "white",
            "ticks": ""
           },
           "bgcolor": "#E5ECF6",
           "caxis": {
            "gridcolor": "white",
            "linecolor": "white",
            "ticks": ""
           }
          },
          "title": {
           "x": 0.05
          },
          "xaxis": {
           "automargin": true,
           "gridcolor": "white",
           "linecolor": "white",
           "ticks": "",
           "title": {
            "standoff": 15
           },
           "zerolinecolor": "white",
           "zerolinewidth": 2
          },
          "yaxis": {
           "automargin": true,
           "gridcolor": "white",
           "linecolor": "white",
           "ticks": "",
           "title": {
            "standoff": 15
           },
           "zerolinecolor": "white",
           "zerolinewidth": 2
          }
         }
        },
        "title": {
         "text": "Total orders per week"
        },
        "xaxis": {
         "title": {
          "text": "Week"
         }
        },
        "yaxis": {
         "title": {
          "text": "Total orders"
         }
        }
       }
      }
     },
     "metadata": {},
     "output_type": "display_data"
    }
   ],
   "source": [
    "import plotly.graph_objs as go\n",
    "import plotly.offline as pyoff\n",
    "plot_data = [\n",
    "    go.Scatter(\n",
    "        x=ts_base2.index,\n",
    "        y=ts_base2['num_orders'],\n",
    "        name='Time Series for num_orders',\n",
    "        marker = dict(color = 'Blue')\n",
    "        #x_axis=\"OTI\",\n",
    "        #y_axis=\"time\",\n",
    "    ),\n",
    "    go.Scatter(\n",
    "        x=ts_tot_pred2.index,\n",
    "        y=ts_tot_pred2['num_orders2'],\n",
    "        name='Predicted',\n",
    "        marker = dict(color = 'Red')\n",
    "        #x_axis=\"OTI\",\n",
    "        #y_axis=\"time\",\n",
    "    )\n",
    "    \n",
    "]\n",
    "plot_layout = go.Layout(\n",
    "        title='Total orders per week',\n",
    "        yaxis_title='Total orders',\n",
    "        xaxis_title='Week',\n",
    "        plot_bgcolor='rgba(0,0,0,0)'\n",
    "    )\n",
    "fig = go.Figure(data=plot_data, layout=plot_layout)\n",
    "pyoff.iplot(fig)"
   ]
  },
  {
   "cell_type": "code",
   "execution_count": 1,
   "id": "ce55a6e2",
   "metadata": {},
   "outputs": [
    {
     "data": {
      "image/png": "[encoded data removed]",
      "text/plain": [
       "<IPython.core.display.Image object>"
      ]
     },
     "metadata": {},
     "output_type": "display_data"
    }
   ],
   "source": [
    "from IPython.display import Image, display\n",
    "display(Image(\"Images/ts2.png\"))"
   ]
  },
  {
   "cell_type": "markdown",
   "id": "d4a9d8a6",
   "metadata": {},
   "source": [
    "## References\n",
    "https://www.kaggle.com/code/sreshta140/getting-started-with-demand-forecasting/notebook\n",
    "\n",
    "I used ChatGPT in general code assistance and generation of markdown\n"
   ]
  }
 ],
 "metadata": {
  "kernelspec": {
   "display_name": "scm-env",
   "language": "python",
   "name": "python3"
  },
  "language_info": {
   "codemirror_mode": {
    "name": "ipython",
    "version": 3
   },
   "file_extension": ".py",
   "mimetype": "text/x-python",
   "name": "python",
   "nbconvert_exporter": "python",
   "pygments_lexer": "ipython3",
   "version": "3.9.22"
  }
 },
 "nbformat": 4,
 "nbformat_minor": 5
}
